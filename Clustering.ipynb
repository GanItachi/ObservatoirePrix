{
 "cells": [
  {
   "cell_type": "code",
   "execution_count": null,
   "id": "0a275042",
   "metadata": {},
   "outputs": [],
   "source": [
    "# clustering_batch.py : à lancer 1x/mois (cron ou manuellement)\n",
    "import pandas as pd, numpy as np\n",
    "from sklearn.preprocessing import StandardScaler\n",
    "from sklearn.cluster import KMeans\n",
    "from statsmodels.tsa.seasonal import STL\n",
    "import pickle\n",
    "# imports standard\n",
    "import pandas as pd, numpy as np, matplotlib.pyplot as plt, seaborn as sns\n",
    "from sklearn.preprocessing import StandardScaler, RobustScaler\n",
    "from sklearn.decomposition import PCA\n",
    "from sklearn.cluster import KMeans, AgglomerativeClustering, DBSCAN\n",
    "from sklearn.metrics import silhouette_score, calinski_harabasz_score, davies_bouldin_score\n",
    "from sklearn.compose import ColumnTransformer\n",
    "import plotly.express as px\n",
    "import warnings; warnings.filterwarnings(\"ignore\")\n",
    "from kneed import KneeLocator\n",
    "from scipy.cluster.hierarchy import linkage, dendrogram\n",
    "from IPython.display import Markdown\n",
    "\n",
    "%matplotlib inline\n",
    "\n"
   ]
  },
  {
   "cell_type": "code",
   "execution_count": null,
   "id": "e2155239",
   "metadata": {},
   "outputs": [],
   "source": [
    "\n",
    "# 1. KMeans : elbow + silhouette\n",
    "def optimal_k_kmeans(X, k_range):\n",
    "    ks = list(k_range)\n",
    "    inertias, silhouettes = [], []\n",
    "    for k in ks:\n",
    "        km = KMeans(n_clusters=k, random_state=42).fit(X)\n",
    "        inertias.append(km.inertia_)  # WCSS \n",
    "        silhouettes.append(silhouette_score(X, km.labels_))  # silhouette \n",
    "    kl = KneeLocator(ks, inertias, curve='convex', direction='decreasing')\n",
    "    # Representation de l'elbow et la silhouette\n",
    "    plt.figure(figsize=(12, 5))\n",
    "    plt.subplot(1, 2, 1)\n",
    "    plt.plot(ks, inertias, marker='o')\n",
    "    plt.title(\"WCSS vs k\")\n",
    "    plt.xlabel(\"Nombre de clusters (k)\")\n",
    "    plt.ylabel(\"WCSS (Inertie)\")\n",
    "    plt.subplot(1, 2, 2)\n",
    "    plt.plot(ks, silhouettes, marker='o')\n",
    "    plt.title(\"Silhouette vs k\")\n",
    "    plt.xlabel(\"Nombre de clusters (k)\")\n",
    "    plt.ylabel(\"Score de silhouette\")\n",
    "    plt.tight_layout()\n",
    "    plt.show()\n",
    "    return kl.elbow, ks[np.argmax(silhouettes)], inertias, silhouettes\n",
    "\n",
    "# 2. CAH : dendrogramme + “inertie” manuelle + silhouette\n",
    "def optimal_k_agglo(X, k_range):\n",
    "    # 2.1 Affichage du dendrogramme pour repérer visuellement l’“elbow” \n",
    "    Z = linkage(X, method='ward')\n",
    "    plt.figure(figsize=(20, 5))\n",
    "    dendrogram(Z)\n",
    "    plt.title(\"Dendrogramme (CAH)\")\n",
    "    plt.xlabel(\"Échantillons\")\n",
    "    plt.ylabel(\"Distance\")\n",
    "    plt.show()\n",
    "    # 2.2 Calculs automatiques\n",
    "    ks = list(k_range)\n",
    "    inertias, silhouettes = [], []\n",
    "    for k in ks:\n",
    "        ac = AgglomerativeClustering(n_clusters=k, linkage='ward').fit(X)\n",
    "        labels = ac.labels_\n",
    "        silhouettes.append(silhouette_score(X, labels))  # silhouette \n",
    "        # Calcul WCSS “à la main” :\n",
    "        centroids = np.array([X[labels==i].mean(axis=0) for i in range(k)])\n",
    "        wcss = sum(np.sum((X[labels==i] - centroids[i])**2) for i in range(k))\n",
    "        inertias.append(wcss)\n",
    "    kl = KneeLocator(ks, inertias, curve='convex', direction='decreasing')\n",
    "    \n",
    "    # Representation de l'elbow et la silhouette\n",
    "    plt.figure(figsize=(12, 5))\n",
    "    plt.subplot(1, 2, 1)\n",
    "    plt.plot(ks, inertias, marker='o')\n",
    "    plt.title(\"WCSS vs k\")\n",
    "    plt.xlabel(\"Nombre de clusters (k)\")\n",
    "    plt.ylabel(\"WCSS (Inertie)\")\n",
    "    plt.subplot(1, 2, 2)\n",
    "    plt.plot(ks, silhouettes, marker='o')\n",
    "    plt.title(\"Silhouette vs k\")\n",
    "    plt.xlabel(\"Nombre de clusters (k)\")\n",
    "    plt.ylabel(\"Score de silhouette\")\n",
    "    plt.tight_layout()\n",
    "    plt.show()\n",
    "    return kl.elbow, ks[np.argmax(silhouettes)], inertias, silhouettes\n"
   ]
  },
  {
   "cell_type": "code",
   "execution_count": 39,
   "id": "eb0cf32d",
   "metadata": {},
   "outputs": [],
   "source": [
    "def extract_features(df, cols, period=12):\n",
    "    feats = []\n",
    "    for c in cols:\n",
    "        s = df[c].dropna()\n",
    "        if len(s) < 24:\n",
    "            row = {\"trend\":0, \"yoy\":0, \"season\":0, \"volatility\":0, \"cv\":0}\n",
    "        else:\n",
    "            row = {\n",
    "                \"trend\": np.polyfit(range(len(s)), s, 1)[0],\n",
    "                \"yoy\": s.pct_change(period).mean()*100,\n",
    "                \"season\": STL(s, period=period, robust=True).fit().seasonal.std(),\n",
    "                \"volatility\": s.pct_change().std()*100,\n",
    "                \"cv\": s.std()/s.mean() if s.mean() != 0 else 0\n",
    "            }\n",
    "        feats.append(row)\n",
    "    return pd.DataFrame(feats, index=cols)\n"
   ]
  },
  {
   "cell_type": "code",
   "execution_count": 42,
   "id": "02f78801",
   "metadata": {},
   "outputs": [],
   "source": [
    "# 4. Comparaison finale\n",
    "def compare_models(X, labels_dict):\n",
    "    results = []\n",
    "    for name, labels in labels_dict.items():\n",
    "        results.append({\n",
    "            'Modèle': name,\n",
    "            'Silhouette': silhouette_score(X, labels),               # :contentReference[oaicite:5]{index=5}\n",
    "            'Calinski–Harabasz': calinski_harabasz_score(X, labels), # :contentReference[oaicite:6]{index=6}\n",
    "            'Davies–Bouldin': davies_bouldin_score(X, labels)        # :contentReference[oaicite:7]{index=7}\n",
    "        })\n",
    "    import pandas as pd\n",
    "    return pd.DataFrame(results)\n"
   ]
  },
  {
   "cell_type": "code",
   "execution_count": 41,
   "id": "e854551a",
   "metadata": {},
   "outputs": [],
   "source": [
    "\n",
    "# Attribuer des noms automatiques aux clusters\n",
    "def name_cluster(df):\n",
    "    if df['trend'].mean() > 0.3 and df['season'].mean() > 0.8:\n",
    "        return \"Saisonnier à forte inflation\"\n",
    "    if df['trend'].mean() < 0.1 and df['season'].mean() < 0.4:\n",
    "        return \"Stable et peu saisonnier\"\n",
    "    if df['volatility'].mean() > 6:\n",
    "        return \"Très volatil\"\n",
    "    return \"Mixte ou modéré\"\n",
    "    \n"
   ]
  },
  {
   "cell_type": "code",
   "execution_count": 44,
   "id": "c4dc2809",
   "metadata": {},
   "outputs": [],
   "source": [
    "# Calcul sur la période d’étude principale\n",
    "df = pd.read_csv(\"data/Base_fin.csv\", index_col=0, parse_dates=True)\n",
    "cols = [c for c in df.columns if c not in ['IHPC','Inflation','InflationGliss', 'mois_deb_couv','annee_fin_couv','mois_fin_couv']]\n",
    "X = extract_features(df, cols)\n",
    "\n",
    "scaler = StandardScaler()\n",
    "X_std = scaler.fit_transform(X)"
   ]
  },
  {
   "cell_type": "code",
   "execution_count": 45,
   "id": "82cddcc0",
   "metadata": {},
   "outputs": [
    {
     "data": {
      "image/png": "[encoded data removed]",
      "text/plain": [
       "<Figure size 1200x500 with 2 Axes>"
      ]
     },
     "metadata": {},
     "output_type": "display_data"
    },
    {
     "name": "stdout",
     "output_type": "stream",
     "text": [
      "KMeans optimal (elbow): 6, (silhouette): 2\n"
     ]
    },
    {
     "data": {
      "image/png": "[encoded data removed]",
      "text/plain": [
       "<Figure size 2000x500 with 1 Axes>"
      ]
     },
     "metadata": {},
     "output_type": "display_data"
    },
    {
     "data": {
      "image/png": "[encoded data removed]",
      "text/plain": [
       "<Figure size 1200x500 with 2 Axes>"
      ]
     },
     "metadata": {},
     "output_type": "display_data"
    },
    {
     "name": "stdout",
     "output_type": "stream",
     "text": [
      "CAH optimal (elbow): 5, (silhouette): 2\n"
     ]
    }
   ],
   "source": [
    "# --- UTILISATION SUR MON JEU DE DONNÉES X_pca ---\n",
    "ks = range(3, 11)\n",
    "\n",
    "# GRID-SEARCH\n",
    "ks = range(2, 11)  # Si vous voulez tester un autre interval   \n",
    "\n",
    "# KMeans\n",
    "k_elbow_km, k_sil_km, inert_km, sil_km = optimal_k_kmeans(X_std, ks)\n",
    "print(f\"KMeans optimal (elbow): {k_elbow_km}, (silhouette): {k_sil_km}\")\n",
    "\n",
    "# CAH\n",
    "k_elbow_ac, k_sil_ac, inert_ac, sil_ac = optimal_k_agglo(X_std, ks)\n",
    "print(f\"CAH optimal (elbow): {k_elbow_ac}, (silhouette): {k_sil_ac}\")"
   ]
  },
  {
   "cell_type": "code",
   "execution_count": 46,
   "id": "658c7d12",
   "metadata": {},
   "outputs": [],
   "source": [
    "# Génération des labels finaux\n",
    "labels_km = KMeans(n_clusters=3, random_state=42).fit_predict(X_std)\n",
    "labels_ac = AgglomerativeClustering(n_clusters=4, linkage='ward').fit_predict(X_std)"
   ]
  },
  {
   "cell_type": "code",
   "execution_count": null,
   "id": "9090162e",
   "metadata": {},
   "outputs": [],
   "source": [
    "X[X['Cluster_KMeans']] = labels_km\n",
    "X['Cluster_CAH'] = labels_ac"
   ]
  },
  {
   "cell_type": "code",
   "execution_count": 48,
   "id": "8d424522",
   "metadata": {},
   "outputs": [
    {
     "data": {
      "application/vnd.microsoft.datawrangler.viewer.v0+json": {
       "columns": [
        {
         "name": "index",
         "rawType": "object",
         "type": "string"
        },
        {
         "name": "trend",
         "rawType": "float64",
         "type": "float"
        },
        {
         "name": "yoy",
         "rawType": "float64",
         "type": "float"
        },
        {
         "name": "season",
         "rawType": "float64",
         "type": "float"
        },
        {
         "name": "volatility",
         "rawType": "float64",
         "type": "float"
        },
        {
         "name": "cv",
         "rawType": "float64",
         "type": "float"
        },
        {
         "name": "Cluster_KMeans",
         "rawType": "int32",
         "type": "integer"
        },
        {
         "name": "Cluster_CAH",
         "rawType": "int64",
         "type": "integer"
        }
       ],
       "ref": "94e9788c-6905-4ccf-a7cc-4f818e2770f4",
       "rows": [
        [
         "AGRUMES",
         "0.4374546571068317",
         "5.497383435105679",
         "16.1578576491235",
         "11.949947488624815",
         "0.18359640935167898",
         "2",
         "1"
        ],
        [
         "ALCOOL_DE_BOUCHE",
         "0.18102520274508438",
         "2.099274481568989",
         "1.267973183892634",
         "1.8301570619842802",
         "0.050959127179746905",
         "0",
         "2"
        ],
        [
         "APPAREILS_DE_RECEPTION_ENREGISTREMENT_ET_REPRODUCTION",
         "-0.0942513509094951",
         "-0.7058158466665899",
         "0.7324766555396142",
         "1.2867143754540913",
         "0.03497352338582288",
         "0",
         "2"
        ],
        [
         "APPAREILS_ET_ARTICLES_POUR_SOINS_CORPORELS",
         "-0.009909458791815496",
         "-0.049389929698438514",
         "0.4617748524610831",
         "1.8335703843801237",
         "0.01642120023141576",
         "0",
         "2"
        ],
        [
         "APPAREILS_ET_MATERIEL_THERAPEUTIQUES",
         "0.05233486533543491",
         "0.4209907829929544",
         "0.746623041766119",
         "0.82548290073553",
         "0.01950799671051073",
         "0",
         "2"
        ],
        [
         "ARTICLES_DE_BIJOUTERIE_ET_D_HORLOGERIE",
         "0.1134650643961937",
         "1.3924551685230135",
         "0.7251886590530606",
         "1.0921616165600474",
         "0.031168388730238424",
         "0",
         "2"
        ],
        [
         "ASSURANCE_TRANSPORT",
         "0.006745319730122425",
         "0.04059553794790862",
         "0.2006223304289796",
         "1.3230448378505186",
         "0.013518755006851567",
         "0",
         "2"
        ],
        [
         "AUTOMOBILE",
         "0.029579740324621524",
         "0.21739083313473082",
         "1.034844198107175",
         "2.1451274407958665",
         "0.0242584550223762",
         "0",
         "2"
        ],
        [
         "AUTRES_ARTICLES_VESTIMENTAIRES_ET_ACCESSOIRES_D_HABILLEMENT",
         "0.025607491598071748",
         "0.29795127211811023",
         "0.483619013604041",
         "0.7876542740976242",
         "0.011235091904464565",
         "0",
         "2"
        ],
        [
         "AUTRES_CONSERVES_DE_POISSONS",
         "0.2358316863761728",
         "2.717671045184493",
         "0.7949630325610965",
         "0.8546376899379035",
         "0.06530295425025952",
         "0",
         "0"
        ],
        [
         "AUTRES_EFFETS_PERSONNELS",
         "0.05622330979553059",
         "0.8064698002224018",
         "0.5676516560925491",
         "0.7105794488328437",
         "0.020751536974759215",
         "0",
         "2"
        ],
        [
         "AUTRES_FRUITS_FRAIS",
         "0.7067331236636271",
         "6.941138613871112",
         "6.162846408186204",
         "6.430327706398869",
         "0.1692815570070039",
         "2",
         "3"
        ],
        [
         "AUTRES_MATIERES_GRASSES",
         "0.6491018581945944",
         "6.7255599983657",
         "6.9297659063475",
         "6.539809580961302",
         "0.16500414558533588",
         "2",
         "3"
        ],
        [
         "AUTRES_PRODUITS_A_BASE_DE_TUBERCULES_ET_DE_PLANTAIN",
         "0.8125271791027988",
         "6.408197937785574",
         "5.909707341736366",
         "5.726153295689033",
         "0.1821019162926083",
         "2",
         "3"
        ],
        [
         "AUTRES_PRODUITS_FRAIS_DE_MER_OU_DE_FLEUVE",
         "1.743221041132363",
         "15.835414320159794",
         "10.633009294631126",
         "11.98344404411113",
         "0.34232498470309664",
         "2",
         "1"
        ],
        [
         "AUTRES_SERVICES_N.C.A.",
         "0.17643024757806267",
         "2.01757447685441",
         "1.2128060206621913",
         "1.2059948577630148",
         "0.04804728279284812",
         "0",
         "2"
        ],
        [
         "AUTRES_SERVICES_RELATIFS_AUX_VEHICULES_PERSONNELS",
         "0.07989526636014438",
         "1.0071407953068061",
         "0.35312170401167825",
         "1.2602871875190056",
         "0.024526721671466967",
         "0",
         "2"
        ],
        [
         "BEURRE_MARGARINE",
         "0.146909282355908",
         "1.7109501827336449",
         "1.3054490466573117",
         "1.92537750910158",
         "0.04793413139132988",
         "0",
         "2"
        ],
        [
         "BIENS_ET_SERVICES_DIVERS",
         "0.005351366518888997",
         "0.02188466252739128",
         "0.9694644935802434",
         "2.474456462387862",
         "0.03968699863221265",
         "0",
         "2"
        ],
        [
         "BIERE",
         "-0.009978029356898958",
         "-0.0499783702377376",
         "0.41734230046103815",
         "0.6991569444130992",
         "0.016479730586484703",
         "0",
         "2"
        ],
        [
         "BOEUF",
         "0.45561063483270253",
         "3.8487707002709546",
         "1.3937488840143466",
         "1.3976104459814913",
         "0.10777705952388832",
         "1",
         "0"
        ],
        [
         "BOISSONS_ALCOOLISEES_TABAC_ET_STUPEFIANTS",
         "0.05006480110037236",
         "0.504653581074022",
         "0.3877223727643715",
         "0.6255652486574308",
         "0.024967127685212278",
         "0",
         "2"
        ],
        [
         "BOISSONS_NON_ALCOOLISEES_ARTISANALES",
         "0.14567440798974524",
         "1.474982036713522",
         "4.36470221941454",
         "6.937217339899593",
         "0.14507157107728083",
         "1",
         "0"
        ],
        [
         "BOISSONS_NON_ALCOOLISEES_INDUSTRIELLES",
         "0.047653427830153534",
         "0.8542745110973218",
         "0.4283179507683914",
         "0.6654913186081894",
         "0.0230301637022899",
         "0",
         "2"
        ],
        [
         "CAFE_THE_CACAO_ET_AUTRES_VEGETAUX_POUR_TISANES",
         "0.2557935465826958",
         "2.670950125504569",
         "1.5730189308315898",
         "3.0833989763795526",
         "0.0797304159534722",
         "1",
         "0"
        ],
        [
         "CANTINES",
         "0.296562887391597",
         "3.2231799148153675",
         "2.2943934157809975",
         "2.856052649919706",
         "0.07999062292331095",
         "1",
         "0"
        ],
        [
         "CARBURANTS_ET_LUBRIFIANTS",
         "0.2949149900483401",
         "4.140149806960811",
         "0.7686189587756985",
         "2.5712592004434867",
         "0.10228191636481174",
         "1",
         "0"
        ],
        [
         "CEREALES_NON_TRANSFORMEES",
         "0.357177389795464",
         "3.950445703787981",
         "1.168623730416166",
         "1.2288338511765187",
         "0.10069426303956767",
         "1",
         "0"
        ],
        [
         "CHARCUTERIE_ET_CONSERVES_AUTRES_VIANDES_ET_PREPARATIONS_A_BASE_DE_VIANDE",
         "0.7001541589617942",
         "7.182236810628094",
         "4.950201267988181",
         "7.6771317330149245",
         "0.17484972650558347",
         "2",
         "3"
        ],
        [
         "COMBUSTIBLES_LIQUIDES",
         "0.4764410293892442",
         "5.3852340853463545",
         "1.9704495366842787",
         "7.264865392442772",
         "0.13764763785308973",
         "1",
         "3"
        ],
        [
         "COMBUSTIBLES_SOLIDES_ET_AUTRES",
         "0.18771044965378034",
         "3.512809835144642",
         "2.7288067392268966",
         "4.99190398055232",
         "0.096738929971407",
         "1",
         "0"
        ],
        [
         "COMMUNICATION",
         "0.28254544211326327",
         "3.659960974110426",
         "0.32148717807562505",
         "2.103795585128814",
         "0.09335825053237011",
         "1",
         "0"
        ],
        [
         "COMMUNICATION_TELEPHONIQUE",
         "0.10286793978205143",
         "0.9133027361439637",
         "0.3691613010652552",
         "0.6767034167925872",
         "0.0325152926118157",
         "0",
         "2"
        ],
        [
         "CONFECTION_ET_REPARATIONS_VETEMENTS_ENFANTS",
         "0.2839677382217155",
         "2.9881048336898695",
         "0.9410481844198645",
         "2.7752640668354056",
         "0.07367334125978829",
         "1",
         "0"
        ],
        [
         "CONFECTION_ET_REPARATIONS_VETEMENTS_FEMMES",
         "0.3564132815097882",
         "3.3639536922287703",
         "0.801737650544727",
         "1.1269247853816844",
         "0.08950244792982444",
         "1",
         "0"
        ],
        [
         "CONFECTION_ET_REPARATIONS_VETEMENTS_HOMMES",
         "0.17626169319724105",
         "1.8297829687003546",
         "0.5268576139315444",
         "0.8112378229910973",
         "0.045464694947525086",
         "0",
         "2"
        ],
        [
         "CONFITURE_MIEL_CHOCOLAT_ET_CONFISERIE",
         "0.11229057498574772",
         "1.3721007676681327",
         "0.9782627659441252",
         "1.8240664565717097",
         "0.032332293735927865",
         "0",
         "2"
        ],
        [
         "CYCLE_MOTOCYCLE_ET_VEHICULE_A_TRACTION_ANIMALE",
         "0.09805439911274799",
         "1.1556835901488045",
         "0.5773906394029642",
         "1.182219010826978",
         "0.02821725317585282",
         "0",
         "2"
        ],
        [
         "ENSEIGNEMENT",
         "-0.2948077062114716",
         "-2.567034281253197",
         "0.39785831136468525",
         "2.621924305621907",
         "0.10979638788784055",
         "0",
         "2"
        ],
        [
         "ENSEIGNEMENT_NON_DEFINI_PAR_NIVEAU",
         "0.3126364811855494",
         "3.063863422811306",
         "1.64011471229676",
         "2.211791760904944",
         "0.083398932116028",
         "1",
         "0"
        ],
        [
         "ENSEIGNEMENT_POST_SECONDAIRE_NON_SUPERIEUR",
         "0.0396792604332506",
         "0.2687420075957771",
         "0.2649286711169113",
         "0.6311925180359917",
         "0.015928546861268895",
         "0",
         "2"
        ],
        [
         "ENSEIGNEMENT_PRE_ELEMENTAIRE_ET_PRIMAIRE",
         "0.49187266750237757",
         "4.654883029554091",
         "0.9596751462437977",
         "1.773755126073",
         "0.11480600887719608",
         "1",
         "0"
        ],
        [
         "ENSEIGNEMENT_SECONDAIRE",
         "0.1409594617187343",
         "1.6287850242159903",
         "0.791568373826751",
         "0.7507836260950889",
         "0.037981301273681725",
         "0",
         "2"
        ],
        [
         "ENSEIGNEMENT_SUPERIEUR",
         "-0.031001630446556523",
         "-0.6093949381684828",
         "0.6792022179737986",
         "0.8156145388480118",
         "0.02271460420361741",
         "0",
         "2"
        ],
        [
         "ENTRETIEN_ET_REPARATIONS_DE_VEHICULES_PARTICULIERS",
         "0.5187742605447536",
         "4.9600675186956416",
         "0.6337915162997467",
         "1.1353161298287369",
         "0.12533718278415737",
         "1",
         "0"
        ],
        [
         "EQUIPEMENT_PHOTOGRAPHIQUE_CINEMATOGRAPHIQUE_OPTIQUE_AUTRE_BIEN_DURABLE_A_FONCTION_RECREATIVE_ET_CULTURELLE",
         "-0.0414932486260118",
         "-0.5881897849107317",
         "0.4965980259476612",
         "0.862391050583426",
         "0.016572887107245946",
         "0",
         "2"
        ],
        [
         "FARINES_SEMOULES_ET_GRUAUX",
         "0.6196073252576555",
         "5.384485095505739",
         "4.477676787045193",
         "6.7611811138938345",
         "0.15806294227080164",
         "2",
         "3"
        ],
        [
         "FORFAIT_ET_CIRCUITS_TOURISTIQUES_COMPOSITES",
         "0.10020066229029492",
         "1.9292451468071168",
         "2.7621818907378404",
         "11.18325018110573",
         "0.17785635595268204",
         "1",
         "0"
        ],
        [
         "FRAIS_DE_CONNEXION_INTERNET_ET_ASSIMILES",
         "0.088751749028457",
         "0.7633339553630311",
         "0.40651930866877917",
         "0.6404831486269218",
         "0.027809131736437828",
         "0",
         "2"
        ],
        [
         "FRUITS_SECS_ET_NOIX",
         "0.14814602583467718",
         "2.0156689189756056",
         "0.7872371322767612",
         "1.774444272771298",
         "0.06135511309819445",
         "0",
         "2"
        ]
       ],
       "shape": {
        "columns": 7,
        "rows": 116
       }
      },
      "text/html": [
       "<div>\n",
       "<style scoped>\n",
       "    .dataframe tbody tr th:only-of-type {\n",
       "        vertical-align: middle;\n",
       "    }\n",
       "\n",
       "    .dataframe tbody tr th {\n",
       "        vertical-align: top;\n",
       "    }\n",
       "\n",
       "    .dataframe thead th {\n",
       "        text-align: right;\n",
       "    }\n",
       "</style>\n",
       "<table border=\"1\" class=\"dataframe\">\n",
       "  <thead>\n",
       "    <tr style=\"text-align: right;\">\n",
       "      <th></th>\n",
       "      <th>trend</th>\n",
       "      <th>yoy</th>\n",
       "      <th>season</th>\n",
       "      <th>volatility</th>\n",
       "      <th>cv</th>\n",
       "      <th>Cluster_KMeans</th>\n",
       "      <th>Cluster_CAH</th>\n",
       "    </tr>\n",
       "  </thead>\n",
       "  <tbody>\n",
       "    <tr>\n",
       "      <th>AGRUMES</th>\n",
       "      <td>0.437455</td>\n",
       "      <td>5.497383</td>\n",
       "      <td>16.157858</td>\n",
       "      <td>11.949947</td>\n",
       "      <td>0.183596</td>\n",
       "      <td>2</td>\n",
       "      <td>1</td>\n",
       "    </tr>\n",
       "    <tr>\n",
       "      <th>ALCOOL_DE_BOUCHE</th>\n",
       "      <td>0.181025</td>\n",
       "      <td>2.099274</td>\n",
       "      <td>1.267973</td>\n",
       "      <td>1.830157</td>\n",
       "      <td>0.050959</td>\n",
       "      <td>0</td>\n",
       "      <td>2</td>\n",
       "    </tr>\n",
       "    <tr>\n",
       "      <th>APPAREILS_DE_RECEPTION_ENREGISTREMENT_ET_REPRODUCTION</th>\n",
       "      <td>-0.094251</td>\n",
       "      <td>-0.705816</td>\n",
       "      <td>0.732477</td>\n",
       "      <td>1.286714</td>\n",
       "      <td>0.034974</td>\n",
       "      <td>0</td>\n",
       "      <td>2</td>\n",
       "    </tr>\n",
       "    <tr>\n",
       "      <th>APPAREILS_ET_ARTICLES_POUR_SOINS_CORPORELS</th>\n",
       "      <td>-0.009909</td>\n",
       "      <td>-0.049390</td>\n",
       "      <td>0.461775</td>\n",
       "      <td>1.833570</td>\n",
       "      <td>0.016421</td>\n",
       "      <td>0</td>\n",
       "      <td>2</td>\n",
       "    </tr>\n",
       "    <tr>\n",
       "      <th>APPAREILS_ET_MATERIEL_THERAPEUTIQUES</th>\n",
       "      <td>0.052335</td>\n",
       "      <td>0.420991</td>\n",
       "      <td>0.746623</td>\n",
       "      <td>0.825483</td>\n",
       "      <td>0.019508</td>\n",
       "      <td>0</td>\n",
       "      <td>2</td>\n",
       "    </tr>\n",
       "    <tr>\n",
       "      <th>...</th>\n",
       "      <td>...</td>\n",
       "      <td>...</td>\n",
       "      <td>...</td>\n",
       "      <td>...</td>\n",
       "      <td>...</td>\n",
       "      <td>...</td>\n",
       "      <td>...</td>\n",
       "    </tr>\n",
       "    <tr>\n",
       "      <th>VETEMENTS_DE_DESSUS_FEMMES</th>\n",
       "      <td>0.097531</td>\n",
       "      <td>1.085216</td>\n",
       "      <td>0.669299</td>\n",
       "      <td>1.113213</td>\n",
       "      <td>0.027531</td>\n",
       "      <td>0</td>\n",
       "      <td>2</td>\n",
       "    </tr>\n",
       "    <tr>\n",
       "      <th>VETEMENTS_DE_DESSUS_HOMMES</th>\n",
       "      <td>0.013322</td>\n",
       "      <td>0.231782</td>\n",
       "      <td>0.525113</td>\n",
       "      <td>0.716989</td>\n",
       "      <td>0.007893</td>\n",
       "      <td>0</td>\n",
       "      <td>2</td>\n",
       "    </tr>\n",
       "    <tr>\n",
       "      <th>VETEMENTS_ENFANTS_(3_A_13_ANS)_ET_NOURRISSONS_(0_A_2_ANS)</th>\n",
       "      <td>0.061251</td>\n",
       "      <td>0.811519</td>\n",
       "      <td>0.764156</td>\n",
       "      <td>1.037774</td>\n",
       "      <td>0.018398</td>\n",
       "      <td>0</td>\n",
       "      <td>2</td>\n",
       "    </tr>\n",
       "    <tr>\n",
       "      <th>VIN_ET_BOISSONS_FERMENTEES</th>\n",
       "      <td>0.159301</td>\n",
       "      <td>1.839786</td>\n",
       "      <td>0.845122</td>\n",
       "      <td>1.262419</td>\n",
       "      <td>0.041518</td>\n",
       "      <td>0</td>\n",
       "      <td>2</td>\n",
       "    </tr>\n",
       "    <tr>\n",
       "      <th>VOLAILLE</th>\n",
       "      <td>0.187042</td>\n",
       "      <td>2.295344</td>\n",
       "      <td>2.175281</td>\n",
       "      <td>3.852172</td>\n",
       "      <td>0.056472</td>\n",
       "      <td>1</td>\n",
       "      <td>0</td>\n",
       "    </tr>\n",
       "  </tbody>\n",
       "</table>\n",
       "<p>116 rows × 7 columns</p>\n",
       "</div>"
      ],
      "text/plain": [
       "                                                       trend       yoy  \\\n",
       "AGRUMES                                             0.437455  5.497383   \n",
       "ALCOOL_DE_BOUCHE                                    0.181025  2.099274   \n",
       "APPAREILS_DE_RECEPTION_ENREGISTREMENT_ET_REPROD... -0.094251 -0.705816   \n",
       "APPAREILS_ET_ARTICLES_POUR_SOINS_CORPORELS         -0.009909 -0.049390   \n",
       "APPAREILS_ET_MATERIEL_THERAPEUTIQUES                0.052335  0.420991   \n",
       "...                                                      ...       ...   \n",
       "VETEMENTS_DE_DESSUS_FEMMES                          0.097531  1.085216   \n",
       "VETEMENTS_DE_DESSUS_HOMMES                          0.013322  0.231782   \n",
       "VETEMENTS_ENFANTS_(3_A_13_ANS)_ET_NOURRISSONS_(...  0.061251  0.811519   \n",
       "VIN_ET_BOISSONS_FERMENTEES                          0.159301  1.839786   \n",
       "VOLAILLE                                            0.187042  2.295344   \n",
       "\n",
       "                                                       season  volatility  \\\n",
       "AGRUMES                                             16.157858   11.949947   \n",
       "ALCOOL_DE_BOUCHE                                     1.267973    1.830157   \n",
       "APPAREILS_DE_RECEPTION_ENREGISTREMENT_ET_REPROD...   0.732477    1.286714   \n",
       "APPAREILS_ET_ARTICLES_POUR_SOINS_CORPORELS           0.461775    1.833570   \n",
       "APPAREILS_ET_MATERIEL_THERAPEUTIQUES                 0.746623    0.825483   \n",
       "...                                                       ...         ...   \n",
       "VETEMENTS_DE_DESSUS_FEMMES                           0.669299    1.113213   \n",
       "VETEMENTS_DE_DESSUS_HOMMES                           0.525113    0.716989   \n",
       "VETEMENTS_ENFANTS_(3_A_13_ANS)_ET_NOURRISSONS_(...   0.764156    1.037774   \n",
       "VIN_ET_BOISSONS_FERMENTEES                           0.845122    1.262419   \n",
       "VOLAILLE                                             2.175281    3.852172   \n",
       "\n",
       "                                                          cv  Cluster_KMeans  \\\n",
       "AGRUMES                                             0.183596               2   \n",
       "ALCOOL_DE_BOUCHE                                    0.050959               0   \n",
       "APPAREILS_DE_RECEPTION_ENREGISTREMENT_ET_REPROD...  0.034974               0   \n",
       "APPAREILS_ET_ARTICLES_POUR_SOINS_CORPORELS          0.016421               0   \n",
       "APPAREILS_ET_MATERIEL_THERAPEUTIQUES                0.019508               0   \n",
       "...                                                      ...             ...   \n",
       "VETEMENTS_DE_DESSUS_FEMMES                          0.027531               0   \n",
       "VETEMENTS_DE_DESSUS_HOMMES                          0.007893               0   \n",
       "VETEMENTS_ENFANTS_(3_A_13_ANS)_ET_NOURRISSONS_(...  0.018398               0   \n",
       "VIN_ET_BOISSONS_FERMENTEES                          0.041518               0   \n",
       "VOLAILLE                                            0.056472               1   \n",
       "\n",
       "                                                    Cluster_CAH  \n",
       "AGRUMES                                                       1  \n",
       "ALCOOL_DE_BOUCHE                                              2  \n",
       "APPAREILS_DE_RECEPTION_ENREGISTREMENT_ET_REPROD...            2  \n",
       "APPAREILS_ET_ARTICLES_POUR_SOINS_CORPORELS                    2  \n",
       "APPAREILS_ET_MATERIEL_THERAPEUTIQUES                          2  \n",
       "...                                                         ...  \n",
       "VETEMENTS_DE_DESSUS_FEMMES                                    2  \n",
       "VETEMENTS_DE_DESSUS_HOMMES                                    2  \n",
       "VETEMENTS_ENFANTS_(3_A_13_ANS)_ET_NOURRISSONS_(...            2  \n",
       "VIN_ET_BOISSONS_FERMENTEES                                    2  \n",
       "VOLAILLE                                                      0  \n",
       "\n",
       "[116 rows x 7 columns]"
      ]
     },
     "execution_count": 48,
     "metadata": {},
     "output_type": "execute_result"
    }
   ],
   "source": [
    "X"
   ]
  },
  {
   "cell_type": "code",
   "execution_count": 31,
   "id": "11a0972c",
   "metadata": {},
   "outputs": [
    {
     "data": {
      "application/vnd.plotly.v1+json": {
       "config": {
        "plotlyServerURL": "https://plot.ly"
       },
       "data": [
        {
         "hovertemplate": "trend=%{x}<br>volatility=%{y}<br>season=%{z}<br>Cluster_KMeans=%{marker.color}<extra></extra>",
         "legendgroup": "",
         "marker": {
          "color": {
           "bdata": "AgAAAAAAAAAAAAAAAAAAAAAAAAAAAAAAAAAAAAAAAAAAAAAAAAAAAAAAAAACAAAAAgAAAAIAAAACAAAAAAAAAAAAAAAAAAAAAAAAAAAAAAABAAAAAAAAAAEAAAAAAAAAAQAAAAEAAAABAAAAAQAAAAIAAAABAAAAAQAAAAEAAAAAAAAAAQAAAAEAAAAAAAAAAAAAAAAAAAAAAAAAAQAAAAAAAAABAAAAAAAAAAAAAAABAAAAAAAAAAIAAAABAAAAAAAAAAAAAAAAAAAAAQAAAAAAAAAAAAAAAAAAAAEAAAAAAAAAAgAAAAIAAAABAAAAAAAAAAAAAAABAAAAAAAAAAAAAAAAAAAAAQAAAAEAAAAAAAAAAAAAAAAAAAABAAAAAAAAAAEAAAAAAAAAAAAAAAIAAAABAAAAAAAAAAEAAAAAAAAAAAAAAAAAAAAAAAAAAAAAAAAAAAACAAAAAAAAAAAAAAABAAAAAAAAAAEAAAAAAAAAAQAAAAAAAAABAAAAAQAAAAAAAAAAAAAAAAAAAAAAAAABAAAAAAAAAAAAAAABAAAAAQAAAAAAAAAAAAAAAQAAAAEAAAABAAAAAgAAAAAAAAAAAAAAAAAAAAAAAAABAAAA",
           "dtype": "i4"
          },
          "coloraxis": "coloraxis",
          "opacity": 0.7,
          "size": 10,
          "symbol": "circle"
         },
         "mode": "markers",
         "name": "",
         "scene": "scene",
         "showlegend": false,
         "type": "scatter3d",
         "x": {
          "bdata": "XW5w0UH/2z80XcV21SvHPwCWwkXbILi/x4t0C2lLhL+4zRyuosuqP7T30eQLDL0/NWJF+vqgez9iEEbFJkqeP0IGyavZOJo//E8skrsvzj/xebA5TcmsP5NTpMiOneY/4P6WQnHF5D/qcav/OADqPxbNFb875Ps/O72vL0SVxj9MPR8kBHS0PzJGmWHszcI/bycAg1DrdT8CmyFuXG+Ev4k9FIK5KN0/303Q9heiqT8SDheBdaXCP8lGJbQHZqg/Gm9G5ete0D+qeKPn4vrSP/jlVh/j39I/yLICjv7b1j//xtyxqWfmP5/C7IMCft4/S7IwYeUGyD8yqWB6ORXSPxe6K6WNVbo/wgEyBYcs0j8HdPymec/WPxzt6D++j8Y/g3s2OxO/vD8cDmvVFxq5P/leMiQh3tK//Z6OcTwC1D+J0scL11CkP/4DLn/Xet8/rGUSq/UKwj9yA5Az5L6fv0p7YXrMmeA/QwC1Y5o+pb9O/8q90tPjPxIJkyfAprk/7D6KQ2+4tj8ABP/vcvbCP7bhbE6ZcMI/0wGzQw+F4T9BEkuc1e21P8PvLhtNpcQ/JWNTgGExoT8vIgfO7ODTPzQweNY7BME/f3o8u5x44j/5e7ElmQnfP+4GgDDUhOI/57yvb0qyjj+jI94n43+rv9YqeOg9ZeA/Ze5GAV61iz/6BD/tdkW1v7wtGUCybb8/8phFSlKRv7/z1I4P0XngP5hcbdVeAs4/g9xPJRr1vz/DBu9AugLCP3F3mLuF2cs/4yRrxHv0tz8Wv8zHhKnRP3RpyK+GNbU/LOeAizeytT+AUg0D3X3lP7ZuUS//S9w/3s6Vhn24uT8QX5JnDRTSP02YpT6K0ak/MCQFtu/zsj+z6GsIfb24PyHhfAT79M0/p7p/MhibrT+NQ7tyb8WsP5fRkmI9HPQ/+cQG7Xbmzj9YEDjpM6ydvyVAIeLTROA/s+hrCH29uD/BhOMrQT7gP1/vALOADa8/TKHAJvdX5T8Ho7DbPFutP4y9SN19N9E/UpdJF/FX0T9vq4860+mtvwAXVTes7bU/lyvO59bksz/JV/5lFnTAPxGVZV3go+M/rkNHV8cPmz/RdGUSfMCdvxt7o4E9b9A/OLOQFG8p0D/mim5buKO/P26lEbH+msg/G7Pi10Gv0D8eZqs7u9/PPy0ydnMhwtc/oBoxawdu8T881ueIzve4P9lhqW2FSIs/Vl9vOExcrz+v24r++mPEP8VRoZL98Mc/",
          "dtype": "f8"
         },
         "y": {
          "bdata": "MB9phF/mJ0A+QXzFUkj9P+rkHdBhlvQ/fjo95k1W/T9CH8IdW2rqP3wmkXV+efE/hlpbEDEr9T9tw1+TOCkBQK65ebx2NOk/B8sGJDFZ6z/vS74cEb3mP+8uhtOnuBlAXi/B18MoGkDTd8O6lOcWQHvOTfqF9ydA+MeTQ8FL8z8kZN/lIir0P0G5oKVYzv4/Xqdq1K/LA0BQ0WBifl/mP52dYMWcXPY/wu2PaaEE5D+UcwDntb8bQPw1JnO0S+U/eY8gFc2qCEBlebghMtkGQBON+1fwkQRAhVUwr02p8z8YiGEFYrUeQCCJmd84Dx1ATfpUrbX3E0CPx5zHktQAQFrmhuyNp+U/gpOmpb0zBkAqQqRI4gfyP8zM4AWp9ek/LUwLT2Av/T+mYUN7XuryP2neSXOz+QRAHzH14L+xAUAjOc6mujLkP8aIGQ5NYfw/IGwOYmsG6D+S0U+pgxnqP33FAz9BKvI/AM7THbWY6z8JB9oPcwsbQJ6rvffSXSZATrwfhNZ+5D8gCYKtH2T8Pzhojl3KYBFA9QYaLxa9EECSQh7Jnyb+P6sYI818fug/9Rv5Qh4A5j+VP2lQKUv0P37TOE36fuw/kaFOKWePGEDxTsM68rYcQCy90nHblQtAziLhq9YJ4j+YY0KteznqP1QdQgdiFeQ/xUiPeZI89D+ATMGZ/UnpP+l7YucR7Oo/omNZoNUmKkCEc4yl73gJQGZzxf9QRew/VKEijeYn+j8doktpkmzZPztafi7qaxlAPmwUUUvu8T/fe2CaRzHxP5MDLt4z5P8/GD1hklPG5j/+x5Fm0CYSQN+9w63LVRBA+mZRFRQLD0DTztcRSI8BQAYUirTrH+c/dRQ9qSBj6D9q5+CuBNvuP2X7YW0DcOw/1FxY4jN66T9kTZb82NkUQNq5nOhVvxVA6SojMYBP6D+5xm2XHYv/P4YK5QELx/g/aufgrgTb7j8CvjCDO18OQO5OoZWeG/A/Yw1IXklk9z9eyHeEm+jmP8Qy/nh6d/s/u/kf+hPlBEAwbK12O9XnPw/SCf8/Yt8/qhYw0eZb/z8qnUWs5g/+Pzlx8i0L3RRAxUHeUCYQ6T9Gq5sEwY/qPylYeP0pKAJAS4bsAuHIAEDysGjWJcnpP6RG984Mdew/LxszCnPz8D9pV8QoycEVQHyo+MuWp/Y/kH8h3/WSHUCn6SOruM/xP1p9EMOS8eY/od4bLbma8D94DsRG3jL0Px9k3Uo/0Q5A",
          "dtype": "f8"
         },
         "z": {
          "bdata": "rGjgW2koMEC4YdA/nkn0PwMJFOJycOc/fuBbHLiN3T+waloBVuTnPwMEwti+NOc/SBcFFv6tyT/pNTXKuI7wP/jMySmd894/4x9MUFZw6T/yAU7OMyriPye5dTXBphhAEsvCjRS4G0BSwUZSiqMXQGoCVcsZRCVAGy0ySadn8z+TOo/Gi5nWP+7MH4oe4/Q/Xu7RZtoF7z+U7O16vLXaP5DZOqHLTPY/8NS8f3HQ2D8BqKR/dHURQDjCtbGPads/rJH+5RUr+T82f2fv6loCQM3eYMmGmOg/pHj3y66y8j8EgqqPAc0TQCSj5xf2hv8/36uwoJjUBUDFwvr0PpPUP4uKwbhWoNc/T2QBFREd7j+j96G31afpP6iBr38E3OA/EvxTt+1N7z+EEijv+3niP+0y8LSCdtk/bQyw7Og9+j9qEo5il/TQPwvW/Kaote4/E0jEModU6T8cLjJKBrzlP1KrXyUFSOQ/7AMtFkPI3z97q4kaJOkRQGuUstHyGAZAJjL7j2kE2j+fairtCzHpP6H2U+mejes/lEbhHM7RBUDKHZ54RBf1P+Uqzf5KGNk/xcUHSrFezj93QtVmz6HfP7dZ5wJu5ts/PC6hgdbeFUByh+gTXu4gQL0NxhypMgBArNjXm8C90T9JuekMoPDYP9A+m6UkiOM/5T9aNknJ5T/oQ1zGuzHfP2yAXnAtT9Q/QZlR7pGnFkCz5/Rjuhn9PyJ/Vbfent0/IxzjbaQg5j8oJIET73THPwPSNw2b7gVAgWeIgp8f8D9gUov0aVbiPxW+yX2JHfI/RWaNrB02zT9nUQ3bqL4LQPXSvXE9iAhAeNZDJeuaCUDoxqsvlcX/P5cykD/49dA/qMU+osxI4T95IZjsi/jgP0giE6PZ8eM/cqrvaK/Z2T/jhUGJ+wP+Pwj+pZ+plwdAEYp/i9+D4T83iq1EOLjlP4lUlhJgefQ/eSGY7Iv44D96HWnJlroLQHxnVEzP4uM/kzznkNOK9z+T3qnp1LLTP9Dph9RPy+w/WTCaO59y4z+9A/e14GTXPwGmsqLqytY/3+8T7djk8z+Mi4S8J6j0PzLiYQ89AAZA9o0Wt+zP1j+MFiv64DHhPz7own3ODvM/esP/lPyN+D88Hwx+lv3bP6pcxPzJO+Q/BIxzCuAh4j/D+/TuKuAEQNqmsMvnj+M/irXKMEeJKkAbQlAC5mrlP9MdtjG6zeA/MErkdPdz6D8IppVuPQvrP7Q76rv5ZgFA",
          "dtype": "f8"
         }
        }
       ],
       "layout": {
        "coloraxis": {
         "colorbar": {
          "title": {
           "text": "Cluster_KMeans"
          }
         },
         "colorscale": [
          [
           0,
           "#0d0887"
          ],
          [
           0.1111111111111111,
           "#46039f"
          ],
          [
           0.2222222222222222,
           "#7201a8"
          ],
          [
           0.3333333333333333,
           "#9c179e"
          ],
          [
           0.4444444444444444,
           "#bd3786"
          ],
          [
           0.5555555555555556,
           "#d8576b"
          ],
          [
           0.6666666666666666,
           "#ed7953"
          ],
          [
           0.7777777777777778,
           "#fb9f3a"
          ],
          [
           0.8888888888888888,
           "#fdca26"
          ],
          [
           1,
           "#f0f921"
          ]
         ]
        },
        "height": 1000,
        "legend": {
         "tracegroupgap": 0
        },
        "scene": {
         "domain": {
          "x": [
           0,
           1
          ],
          "y": [
           0,
           1
          ]
         },
         "xaxis": {
          "title": {
           "text": "trend"
          }
         },
         "yaxis": {
          "title": {
           "text": "volatility"
          }
         },
         "zaxis": {
          "title": {
           "text": "season"
          }
         }
        },
        "template": {
         "data": {
          "bar": [
           {
            "error_x": {
             "color": "#2a3f5f"
            },
            "error_y": {
             "color": "#2a3f5f"
            },
            "marker": {
             "line": {
              "color": "#E5ECF6",
              "width": 0.5
             },
             "pattern": {
              "fillmode": "overlay",
              "size": 10,
              "solidity": 0.2
             }
            },
            "type": "bar"
           }
          ],
          "barpolar": [
           {
            "marker": {
             "line": {
              "color": "#E5ECF6",
              "width": 0.5
             },
             "pattern": {
              "fillmode": "overlay",
              "size": 10,
              "solidity": 0.2
             }
            },
            "type": "barpolar"
           }
          ],
          "carpet": [
           {
            "aaxis": {
             "endlinecolor": "#2a3f5f",
             "gridcolor": "white",
             "linecolor": "white",
             "minorgridcolor": "white",
             "startlinecolor": "#2a3f5f"
            },
            "baxis": {
             "endlinecolor": "#2a3f5f",
             "gridcolor": "white",
             "linecolor": "white",
             "minorgridcolor": "white",
             "startlinecolor": "#2a3f5f"
            },
            "type": "carpet"
           }
          ],
          "choropleth": [
           {
            "colorbar": {
             "outlinewidth": 0,
             "ticks": ""
            },
            "type": "choropleth"
           }
          ],
          "contour": [
           {
            "colorbar": {
             "outlinewidth": 0,
             "ticks": ""
            },
            "colorscale": [
             [
              0,
              "#0d0887"
             ],
             [
              0.1111111111111111,
              "#46039f"
             ],
             [
              0.2222222222222222,
              "#7201a8"
             ],
             [
              0.3333333333333333,
              "#9c179e"
             ],
             [
              0.4444444444444444,
              "#bd3786"
             ],
             [
              0.5555555555555556,
              "#d8576b"
             ],
             [
              0.6666666666666666,
              "#ed7953"
             ],
             [
              0.7777777777777778,
              "#fb9f3a"
             ],
             [
              0.8888888888888888,
              "#fdca26"
             ],
             [
              1,
              "#f0f921"
             ]
            ],
            "type": "contour"
           }
          ],
          "contourcarpet": [
           {
            "colorbar": {
             "outlinewidth": 0,
             "ticks": ""
            },
            "type": "contourcarpet"
           }
          ],
          "heatmap": [
           {
            "colorbar": {
             "outlinewidth": 0,
             "ticks": ""
            },
            "colorscale": [
             [
              0,
              "#0d0887"
             ],
             [
              0.1111111111111111,
              "#46039f"
             ],
             [
              0.2222222222222222,
              "#7201a8"
             ],
             [
              0.3333333333333333,
              "#9c179e"
             ],
             [
              0.4444444444444444,
              "#bd3786"
             ],
             [
              0.5555555555555556,
              "#d8576b"
             ],
             [
              0.6666666666666666,
              "#ed7953"
             ],
             [
              0.7777777777777778,
              "#fb9f3a"
             ],
             [
              0.8888888888888888,
              "#fdca26"
             ],
             [
              1,
              "#f0f921"
             ]
            ],
            "type": "heatmap"
           }
          ],
          "histogram": [
           {
            "marker": {
             "pattern": {
              "fillmode": "overlay",
              "size": 10,
              "solidity": 0.2
             }
            },
            "type": "histogram"
           }
          ],
          "histogram2d": [
           {
            "colorbar": {
             "outlinewidth": 0,
             "ticks": ""
            },
            "colorscale": [
             [
              0,
              "#0d0887"
             ],
             [
              0.1111111111111111,
              "#46039f"
             ],
             [
              0.2222222222222222,
              "#7201a8"
             ],
             [
              0.3333333333333333,
              "#9c179e"
             ],
             [
              0.4444444444444444,
              "#bd3786"
             ],
             [
              0.5555555555555556,
              "#d8576b"
             ],
             [
              0.6666666666666666,
              "#ed7953"
             ],
             [
              0.7777777777777778,
              "#fb9f3a"
             ],
             [
              0.8888888888888888,
              "#fdca26"
             ],
             [
              1,
              "#f0f921"
             ]
            ],
            "type": "histogram2d"
           }
          ],
          "histogram2dcontour": [
           {
            "colorbar": {
             "outlinewidth": 0,
             "ticks": ""
            },
            "colorscale": [
             [
              0,
              "#0d0887"
             ],
             [
              0.1111111111111111,
              "#46039f"
             ],
             [
              0.2222222222222222,
              "#7201a8"
             ],
             [
              0.3333333333333333,
              "#9c179e"
             ],
             [
              0.4444444444444444,
              "#bd3786"
             ],
             [
              0.5555555555555556,
              "#d8576b"
             ],
             [
              0.6666666666666666,
              "#ed7953"
             ],
             [
              0.7777777777777778,
              "#fb9f3a"
             ],
             [
              0.8888888888888888,
              "#fdca26"
             ],
             [
              1,
              "#f0f921"
             ]
            ],
            "type": "histogram2dcontour"
           }
          ],
          "mesh3d": [
           {
            "colorbar": {
             "outlinewidth": 0,
             "ticks": ""
            },
            "type": "mesh3d"
           }
          ],
          "parcoords": [
           {
            "line": {
             "colorbar": {
              "outlinewidth": 0,
              "ticks": ""
             }
            },
            "type": "parcoords"
           }
          ],
          "pie": [
           {
            "automargin": true,
            "type": "pie"
           }
          ],
          "scatter": [
           {
            "fillpattern": {
             "fillmode": "overlay",
             "size": 10,
             "solidity": 0.2
            },
            "type": "scatter"
           }
          ],
          "scatter3d": [
           {
            "line": {
             "colorbar": {
              "outlinewidth": 0,
              "ticks": ""
             }
            },
            "marker": {
             "colorbar": {
              "outlinewidth": 0,
              "ticks": ""
             }
            },
            "type": "scatter3d"
           }
          ],
          "scattercarpet": [
           {
            "marker": {
             "colorbar": {
              "outlinewidth": 0,
              "ticks": ""
             }
            },
            "type": "scattercarpet"
           }
          ],
          "scattergeo": [
           {
            "marker": {
             "colorbar": {
              "outlinewidth": 0,
              "ticks": ""
             }
            },
            "type": "scattergeo"
           }
          ],
          "scattergl": [
           {
            "marker": {
             "colorbar": {
              "outlinewidth": 0,
              "ticks": ""
             }
            },
            "type": "scattergl"
           }
          ],
          "scattermap": [
           {
            "marker": {
             "colorbar": {
              "outlinewidth": 0,
              "ticks": ""
             }
            },
            "type": "scattermap"
           }
          ],
          "scattermapbox": [
           {
            "marker": {
             "colorbar": {
              "outlinewidth": 0,
              "ticks": ""
             }
            },
            "type": "scattermapbox"
           }
          ],
          "scatterpolar": [
           {
            "marker": {
             "colorbar": {
              "outlinewidth": 0,
              "ticks": ""
             }
            },
            "type": "scatterpolar"
           }
          ],
          "scatterpolargl": [
           {
            "marker": {
             "colorbar": {
              "outlinewidth": 0,
              "ticks": ""
             }
            },
            "type": "scatterpolargl"
           }
          ],
          "scatterternary": [
           {
            "marker": {
             "colorbar": {
              "outlinewidth": 0,
              "ticks": ""
             }
            },
            "type": "scatterternary"
           }
          ],
          "surface": [
           {
            "colorbar": {
             "outlinewidth": 0,
             "ticks": ""
            },
            "colorscale": [
             [
              0,
              "#0d0887"
             ],
             [
              0.1111111111111111,
              "#46039f"
             ],
             [
              0.2222222222222222,
              "#7201a8"
             ],
             [
              0.3333333333333333,
              "#9c179e"
             ],
             [
              0.4444444444444444,
              "#bd3786"
             ],
             [
              0.5555555555555556,
              "#d8576b"
             ],
             [
              0.6666666666666666,
              "#ed7953"
             ],
             [
              0.7777777777777778,
              "#fb9f3a"
             ],
             [
              0.8888888888888888,
              "#fdca26"
             ],
             [
              1,
              "#f0f921"
             ]
            ],
            "type": "surface"
           }
          ],
          "table": [
           {
            "cells": {
             "fill": {
              "color": "#EBF0F8"
             },
             "line": {
              "color": "white"
             }
            },
            "header": {
             "fill": {
              "color": "#C8D4E3"
             },
             "line": {
              "color": "white"
             }
            },
            "type": "table"
           }
          ]
         },
         "layout": {
          "annotationdefaults": {
           "arrowcolor": "#2a3f5f",
           "arrowhead": 0,
           "arrowwidth": 1
          },
          "autotypenumbers": "strict",
          "coloraxis": {
           "colorbar": {
            "outlinewidth": 0,
            "ticks": ""
           }
          },
          "colorscale": {
           "diverging": [
            [
             0,
             "#8e0152"
            ],
            [
             0.1,
             "#c51b7d"
            ],
            [
             0.2,
             "#de77ae"
            ],
            [
             0.3,
             "#f1b6da"
            ],
            [
             0.4,
             "#fde0ef"
            ],
            [
             0.5,
             "#f7f7f7"
            ],
            [
             0.6,
             "#e6f5d0"
            ],
            [
             0.7,
             "#b8e186"
            ],
            [
             0.8,
             "#7fbc41"
            ],
            [
             0.9,
             "#4d9221"
            ],
            [
             1,
             "#276419"
            ]
           ],
           "sequential": [
            [
             0,
             "#0d0887"
            ],
            [
             0.1111111111111111,
             "#46039f"
            ],
            [
             0.2222222222222222,
             "#7201a8"
            ],
            [
             0.3333333333333333,
             "#9c179e"
            ],
            [
             0.4444444444444444,
             "#bd3786"
            ],
            [
             0.5555555555555556,
             "#d8576b"
            ],
            [
             0.6666666666666666,
             "#ed7953"
            ],
            [
             0.7777777777777778,
             "#fb9f3a"
            ],
            [
             0.8888888888888888,
             "#fdca26"
            ],
            [
             1,
             "#f0f921"
            ]
           ],
           "sequentialminus": [
            [
             0,
             "#0d0887"
            ],
            [
             0.1111111111111111,
             "#46039f"
            ],
            [
             0.2222222222222222,
             "#7201a8"
            ],
            [
             0.3333333333333333,
             "#9c179e"
            ],
            [
             0.4444444444444444,
             "#bd3786"
            ],
            [
             0.5555555555555556,
             "#d8576b"
            ],
            [
             0.6666666666666666,
             "#ed7953"
            ],
            [
             0.7777777777777778,
             "#fb9f3a"
            ],
            [
             0.8888888888888888,
             "#fdca26"
            ],
            [
             1,
             "#f0f921"
            ]
           ]
          },
          "colorway": [
           "#636efa",
           "#EF553B",
           "#00cc96",
           "#ab63fa",
           "#FFA15A",
           "#19d3f3",
           "#FF6692",
           "#B6E880",
           "#FF97FF",
           "#FECB52"
          ],
          "font": {
           "color": "#2a3f5f"
          },
          "geo": {
           "bgcolor": "white",
           "lakecolor": "white",
           "landcolor": "#E5ECF6",
           "showlakes": true,
           "showland": true,
           "subunitcolor": "white"
          },
          "hoverlabel": {
           "align": "left"
          },
          "hovermode": "closest",
          "mapbox": {
           "style": "light"
          },
          "paper_bgcolor": "white",
          "plot_bgcolor": "#E5ECF6",
          "polar": {
           "angularaxis": {
            "gridcolor": "white",
            "linecolor": "white",
            "ticks": ""
           },
           "bgcolor": "#E5ECF6",
           "radialaxis": {
            "gridcolor": "white",
            "linecolor": "white",
            "ticks": ""
           }
          },
          "scene": {
           "xaxis": {
            "backgroundcolor": "#E5ECF6",
            "gridcolor": "white",
            "gridwidth": 2,
            "linecolor": "white",
            "showbackground": true,
            "ticks": "",
            "zerolinecolor": "white"
           },
           "yaxis": {
            "backgroundcolor": "#E5ECF6",
            "gridcolor": "white",
            "gridwidth": 2,
            "linecolor": "white",
            "showbackground": true,
            "ticks": "",
            "zerolinecolor": "white"
           },
           "zaxis": {
            "backgroundcolor": "#E5ECF6",
            "gridcolor": "white",
            "gridwidth": 2,
            "linecolor": "white",
            "showbackground": true,
            "ticks": "",
            "zerolinecolor": "white"
           }
          },
          "shapedefaults": {
           "line": {
            "color": "#2a3f5f"
           }
          },
          "ternary": {
           "aaxis": {
            "gridcolor": "white",
            "linecolor": "white",
            "ticks": ""
           },
           "baxis": {
            "gridcolor": "white",
            "linecolor": "white",
            "ticks": ""
           },
           "bgcolor": "#E5ECF6",
           "caxis": {
            "gridcolor": "white",
            "linecolor": "white",
            "ticks": ""
           }
          },
          "title": {
           "x": 0.05
          },
          "xaxis": {
           "automargin": true,
           "gridcolor": "white",
           "linecolor": "white",
           "ticks": "",
           "title": {
            "standoff": 15
           },
           "zerolinecolor": "white",
           "zerolinewidth": 2
          },
          "yaxis": {
           "automargin": true,
           "gridcolor": "white",
           "linecolor": "white",
           "ticks": "",
           "title": {
            "standoff": 15
           },
           "zerolinecolor": "white",
           "zerolinewidth": 2
          }
         }
        },
        "title": {
         "text": "KMEANS----Projection interactive des clients sur PC1, PC2, PC3"
        },
        "width": 1000
       }
      }
     },
     "metadata": {},
     "output_type": "display_data"
    }
   ],
   "source": [
    "fig = px.scatter_3d(\n",
    "    X, x='trend', y='volatility', z='season',\n",
    "    color='Cluster_KMeans',\n",
    "    title=\"KMEANS----Projection interactive des clients sur PC1, PC2, PC3\",\n",
    "    opacity=0.7,\n",
    "    width=1000, height=1000,\n",
    ")\n",
    "\n",
    "# Fixer la taille des points ici\n",
    "fig.update_traces(marker=dict(size=10))\n",
    "\n",
    "fig.show()\n"
   ]
  },
  {
   "cell_type": "code",
   "execution_count": null,
   "id": "2f6e5e51",
   "metadata": {},
   "outputs": [],
   "source": [
    "fig = px.scatter_3d(\n",
    "    X, x='trend', y='volatility', z='season',\n",
    "    color='Cluster_CAH',\n",
    "    title=\"CAH----Projection interactive des clients sur PC1, PC2, PC3\",\n",
    "    opacity=0.7,\n",
    "    width=1000, height=1000,\n",
    ")\n",
    "\n",
    "# Fixer la taille des points ici\n",
    "fig.update_traces(marker=dict(size=2))\n",
    "\n",
    "fig.show()\n"
   ]
  },
  {
   "cell_type": "code",
   "execution_count": 61,
   "id": "c3f5f59a",
   "metadata": {},
   "outputs": [
    {
     "data": {
      "application/vnd.microsoft.datawrangler.viewer.v0+json": {
       "columns": [
        {
         "name": "Cluster_KMeans",
         "rawType": "int32",
         "type": "integer"
        },
        {
         "name": "('trend', 'mean')",
         "rawType": "float64",
         "type": "float"
        },
        {
         "name": "('trend', 'std')",
         "rawType": "float64",
         "type": "float"
        },
        {
         "name": "('trend', 'min')",
         "rawType": "float64",
         "type": "float"
        },
        {
         "name": "('trend', 'max')",
         "rawType": "float64",
         "type": "float"
        },
        {
         "name": "('yoy', 'mean')",
         "rawType": "float64",
         "type": "float"
        },
        {
         "name": "('yoy', 'std')",
         "rawType": "float64",
         "type": "float"
        },
        {
         "name": "('yoy', 'min')",
         "rawType": "float64",
         "type": "float"
        },
        {
         "name": "('yoy', 'max')",
         "rawType": "float64",
         "type": "float"
        },
        {
         "name": "('season', 'mean')",
         "rawType": "float64",
         "type": "float"
        },
        {
         "name": "('season', 'std')",
         "rawType": "float64",
         "type": "float"
        },
        {
         "name": "('season', 'min')",
         "rawType": "float64",
         "type": "float"
        },
        {
         "name": "('season', 'max')",
         "rawType": "float64",
         "type": "float"
        },
        {
         "name": "('volatility', 'mean')",
         "rawType": "float64",
         "type": "float"
        },
        {
         "name": "('volatility', 'std')",
         "rawType": "float64",
         "type": "float"
        },
        {
         "name": "('volatility', 'min')",
         "rawType": "float64",
         "type": "float"
        },
        {
         "name": "('volatility', 'max')",
         "rawType": "float64",
         "type": "float"
        },
        {
         "name": "('cv', 'mean')",
         "rawType": "float64",
         "type": "float"
        },
        {
         "name": "('cv', 'std')",
         "rawType": "float64",
         "type": "float"
        },
        {
         "name": "('cv', 'min')",
         "rawType": "float64",
         "type": "float"
        },
        {
         "name": "('cv', 'max')",
         "rawType": "float64",
         "type": "float"
        },
        {
         "name": "('Cluster_CAH', 'mean')",
         "rawType": "float64",
         "type": "float"
        },
        {
         "name": "('Cluster_CAH', 'std')",
         "rawType": "float64",
         "type": "float"
        },
        {
         "name": "('Cluster_CAH', 'min')",
         "rawType": "int64",
         "type": "integer"
        },
        {
         "name": "('Cluster_CAH', 'max')",
         "rawType": "int64",
         "type": "integer"
        }
       ],
       "ref": "0fe3a2d3-7840-4aa6-8ca6-ead236cc9f97",
       "rows": [
        [
         "0",
         "0.07229859557944424",
         "0.08946681342594513",
         "-0.2948077062114716",
         "0.2414082200389556",
         "0.8477547932003974",
         "0.9478200472520607",
         "-2.567034281253197",
         "2.717671045184493",
         "0.6729261972920162",
         "0.4586991718191877",
         "0.18325603916517363",
         "3.200643817074532",
         "1.252583508015569",
         "0.8766690123162653",
         "0.39725170405157134",
         "5.212741800950742",
         "0.033015563119897263",
         "0.01803442415526666",
         "0.007893157022188053",
         "0.10979638788784055",
         "1.791044776119403",
         "0.6163753636168571",
         "0",
         "2"
        ],
        [
         "1",
         "0.3456548144630046",
         "0.16101655990526242",
         "-0.12331117928770022",
         "0.66698796814766",
         "3.608091066117462",
         "1.1503087307451667",
         "1.474982036713522",
         "6.3996335367629",
         "1.7619383687510557",
         "1.1752896610702501",
         "0.32148717807562505",
         "5.663642619829546",
         "3.368230236393163",
         "2.7395053616516365",
         "0.6276102201235667",
         "13.07584858981301",
         "0.10586209915054559",
         "0.029602219718963842",
         "0.05647173187128555",
         "0.17785635595268204",
         "0.6486486486486487",
         "1.2520253861514021",
         "0",
         "3"
        ],
        [
         "2",
         "0.8124045453519089",
         "0.37552878401991996",
         "0.4374546571068317",
         "1.743221041132363",
         "7.536505224508326",
         "3.126297071193241",
         "4.929679417548235",
         "15.835414320159794",
         "7.403292673641971",
         "4.04791293796432",
         "2.9490540001422723",
         "16.1578576491235",
         "7.312913908420389",
         "2.340704888198123",
         "4.537904360435276",
         "11.98344404411113",
         "0.19040735159938535",
         "0.05647558874496161",
         "0.13501246119554233",
         "0.34232498470309664",
         "2.5",
         "0.9045340337332909",
         "1",
         "3"
        ]
       ],
       "shape": {
        "columns": 24,
        "rows": 3
       }
      },
      "text/html": [
       "<div>\n",
       "<style scoped>\n",
       "    .dataframe tbody tr th:only-of-type {\n",
       "        vertical-align: middle;\n",
       "    }\n",
       "\n",
       "    .dataframe tbody tr th {\n",
       "        vertical-align: top;\n",
       "    }\n",
       "\n",
       "    .dataframe thead tr th {\n",
       "        text-align: left;\n",
       "    }\n",
       "\n",
       "    .dataframe thead tr:last-of-type th {\n",
       "        text-align: right;\n",
       "    }\n",
       "</style>\n",
       "<table border=\"1\" class=\"dataframe\">\n",
       "  <thead>\n",
       "    <tr>\n",
       "      <th></th>\n",
       "      <th colspan=\"4\" halign=\"left\">trend</th>\n",
       "      <th colspan=\"4\" halign=\"left\">yoy</th>\n",
       "      <th colspan=\"2\" halign=\"left\">season</th>\n",
       "      <th>...</th>\n",
       "      <th colspan=\"2\" halign=\"left\">volatility</th>\n",
       "      <th colspan=\"4\" halign=\"left\">cv</th>\n",
       "      <th colspan=\"4\" halign=\"left\">Cluster_CAH</th>\n",
       "    </tr>\n",
       "    <tr>\n",
       "      <th></th>\n",
       "      <th>mean</th>\n",
       "      <th>std</th>\n",
       "      <th>min</th>\n",
       "      <th>max</th>\n",
       "      <th>mean</th>\n",
       "      <th>std</th>\n",
       "      <th>min</th>\n",
       "      <th>max</th>\n",
       "      <th>mean</th>\n",
       "      <th>std</th>\n",
       "      <th>...</th>\n",
       "      <th>min</th>\n",
       "      <th>max</th>\n",
       "      <th>mean</th>\n",
       "      <th>std</th>\n",
       "      <th>min</th>\n",
       "      <th>max</th>\n",
       "      <th>mean</th>\n",
       "      <th>std</th>\n",
       "      <th>min</th>\n",
       "      <th>max</th>\n",
       "    </tr>\n",
       "    <tr>\n",
       "      <th>Cluster_KMeans</th>\n",
       "      <th></th>\n",
       "      <th></th>\n",
       "      <th></th>\n",
       "      <th></th>\n",
       "      <th></th>\n",
       "      <th></th>\n",
       "      <th></th>\n",
       "      <th></th>\n",
       "      <th></th>\n",
       "      <th></th>\n",
       "      <th></th>\n",
       "      <th></th>\n",
       "      <th></th>\n",
       "      <th></th>\n",
       "      <th></th>\n",
       "      <th></th>\n",
       "      <th></th>\n",
       "      <th></th>\n",
       "      <th></th>\n",
       "      <th></th>\n",
       "      <th></th>\n",
       "    </tr>\n",
       "  </thead>\n",
       "  <tbody>\n",
       "    <tr>\n",
       "      <th>0</th>\n",
       "      <td>0.072299</td>\n",
       "      <td>0.089467</td>\n",
       "      <td>-0.294808</td>\n",
       "      <td>0.241408</td>\n",
       "      <td>0.847755</td>\n",
       "      <td>0.947820</td>\n",
       "      <td>-2.567034</td>\n",
       "      <td>2.717671</td>\n",
       "      <td>0.672926</td>\n",
       "      <td>0.458699</td>\n",
       "      <td>...</td>\n",
       "      <td>0.397252</td>\n",
       "      <td>5.212742</td>\n",
       "      <td>0.033016</td>\n",
       "      <td>0.018034</td>\n",
       "      <td>0.007893</td>\n",
       "      <td>0.109796</td>\n",
       "      <td>1.791045</td>\n",
       "      <td>0.616375</td>\n",
       "      <td>0</td>\n",
       "      <td>2</td>\n",
       "    </tr>\n",
       "    <tr>\n",
       "      <th>1</th>\n",
       "      <td>0.345655</td>\n",
       "      <td>0.161017</td>\n",
       "      <td>-0.123311</td>\n",
       "      <td>0.666988</td>\n",
       "      <td>3.608091</td>\n",
       "      <td>1.150309</td>\n",
       "      <td>1.474982</td>\n",
       "      <td>6.399634</td>\n",
       "      <td>1.761938</td>\n",
       "      <td>1.175290</td>\n",
       "      <td>...</td>\n",
       "      <td>0.627610</td>\n",
       "      <td>13.075849</td>\n",
       "      <td>0.105862</td>\n",
       "      <td>0.029602</td>\n",
       "      <td>0.056472</td>\n",
       "      <td>0.177856</td>\n",
       "      <td>0.648649</td>\n",
       "      <td>1.252025</td>\n",
       "      <td>0</td>\n",
       "      <td>3</td>\n",
       "    </tr>\n",
       "    <tr>\n",
       "      <th>2</th>\n",
       "      <td>0.812405</td>\n",
       "      <td>0.375529</td>\n",
       "      <td>0.437455</td>\n",
       "      <td>1.743221</td>\n",
       "      <td>7.536505</td>\n",
       "      <td>3.126297</td>\n",
       "      <td>4.929679</td>\n",
       "      <td>15.835414</td>\n",
       "      <td>7.403293</td>\n",
       "      <td>4.047913</td>\n",
       "      <td>...</td>\n",
       "      <td>4.537904</td>\n",
       "      <td>11.983444</td>\n",
       "      <td>0.190407</td>\n",
       "      <td>0.056476</td>\n",
       "      <td>0.135012</td>\n",
       "      <td>0.342325</td>\n",
       "      <td>2.500000</td>\n",
       "      <td>0.904534</td>\n",
       "      <td>1</td>\n",
       "      <td>3</td>\n",
       "    </tr>\n",
       "  </tbody>\n",
       "</table>\n",
       "<p>3 rows × 24 columns</p>\n",
       "</div>"
      ],
      "text/plain": [
       "                   trend                                     yoy            \\\n",
       "                    mean       std       min       max      mean       std   \n",
       "Cluster_KMeans                                                               \n",
       "0               0.072299  0.089467 -0.294808  0.241408  0.847755  0.947820   \n",
       "1               0.345655  0.161017 -0.123311  0.666988  3.608091  1.150309   \n",
       "2               0.812405  0.375529  0.437455  1.743221  7.536505  3.126297   \n",
       "\n",
       "                                       season            ... volatility  \\\n",
       "                     min        max      mean       std  ...        min   \n",
       "Cluster_KMeans                                           ...              \n",
       "0              -2.567034   2.717671  0.672926  0.458699  ...   0.397252   \n",
       "1               1.474982   6.399634  1.761938  1.175290  ...   0.627610   \n",
       "2               4.929679  15.835414  7.403293  4.047913  ...   4.537904   \n",
       "\n",
       "                                 cv                               Cluster_CAH  \\\n",
       "                      max      mean       std       min       max        mean   \n",
       "Cluster_KMeans                                                                  \n",
       "0                5.212742  0.033016  0.018034  0.007893  0.109796    1.791045   \n",
       "1               13.075849  0.105862  0.029602  0.056472  0.177856    0.648649   \n",
       "2               11.983444  0.190407  0.056476  0.135012  0.342325    2.500000   \n",
       "\n",
       "                                  \n",
       "                     std min max  \n",
       "Cluster_KMeans                    \n",
       "0               0.616375   0   2  \n",
       "1               1.252025   0   3  \n",
       "2               0.904534   1   3  \n",
       "\n",
       "[3 rows x 24 columns]"
      ]
     },
     "execution_count": 61,
     "metadata": {},
     "output_type": "execute_result"
    }
   ],
   "source": [
    "X.groupby('Cluster_KMeans').agg(['mean', 'std', 'min', 'max'])\n"
   ]
  },
  {
   "cell_type": "code",
   "execution_count": 57,
   "id": "e7ed64db",
   "metadata": {},
   "outputs": [
    {
     "data": {
      "image/png": "[encoded data removed]",
      "text/plain": [
       "<Figure size 871.361x750 with 12 Axes>"
      ]
     },
     "metadata": {},
     "output_type": "display_data"
    }
   ],
   "source": [
    "sns.pairplot(X, hue='Cluster_KMeans', vars=['trend', 'season', 'volatility'])\n",
    "plt.show()"
   ]
  },
  {
   "cell_type": "code",
   "execution_count": 30,
   "id": "270cbb2d",
   "metadata": {},
   "outputs": [
    {
     "name": "stdout",
     "output_type": "stream",
     "text": [
      "   Modèle  Silhouette  Calinski–Harabasz  Davies–Bouldin\n",
      "0  KMeans    0.477623         115.020948        0.881333\n",
      "1     CAH    0.449460         104.805736        0.921803\n"
     ]
    }
   ],
   "source": [
    "# Tableau comparatif\n",
    "df_comparison = compare_models(\n",
    "    X_std,\n",
    "    {'KMeans': labels_km, 'CAH': labels_ac}\n",
    ")\n",
    "print(df_comparison)"
   ]
  },
  {
   "cell_type": "code",
   "execution_count": null,
   "id": "1d4961c3",
   "metadata": {},
   "outputs": [],
   "source": [
    "desc = []\n",
    "for c in sorted(X['Cluster_KMeans'].unique()):\n",
    "    sub = X[X['Cluster_KMeans']==c]\n",
    "    nom = name_cluster(sub)\n",
    "    desc.append({\"cluster\":c, \"nom\":nom,\n",
    "                 \"trend\":sub['trend'].mean(),\n",
    "                 \"season\":sub['season'].mean(),\n",
    "                 \"volatility\":sub['volatility'].mean(),\n",
    "                 \"yoy\":sub['yoy'].mean(),\n",
    "                 \"cv\":sub['cv'].mean(),\n",
    "                 \"postes\": list(sub.index)})\n",
    "desc_df = pd.DataFrame(desc)\n",
    "\n",
    "# Sauvegarde résultats\n",
    "X[['cluster']].to_csv(\"mapping_clusters.csv\")\n",
    "\n",
    "desc_df.to_csv(\"desc_clusters.csv\", index=False)\n",
    "print(\"Clusters calculés et sauvegardés\")\n"
   ]
  }
 ],
 "metadata": {
  "kernelspec": {
   "display_name": "Python 3",
   "language": "python",
   "name": "python3"
  },
  "language_info": {
   "codemirror_mode": {
    "name": "ipython",
    "version": 3
   },
   "file_extension": ".py",
   "mimetype": "text/x-python",
   "name": "python",
   "nbconvert_exporter": "python",
   "pygments_lexer": "ipython3",
   "version": "3.12.10"
  }
 },
 "nbformat": 4,
 "nbformat_minor": 5
}
