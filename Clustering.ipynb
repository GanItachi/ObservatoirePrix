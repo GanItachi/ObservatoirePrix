{
 "cells": [
  {
   "cell_type": "code",
   "execution_count": null,
   "id": "0a275042",
   "metadata": {},
   "outputs": [],
   "source": [
    "# clustering_batch.py : à lancer 1x/mois (cron ou manuellement)\n",
    "import pandas as pd, numpy as np\n",
    "from sklearn.preprocessing import StandardScaler\n",
    "from sklearn.cluster import KMeans\n",
    "from statsmodels.tsa.seasonal import STL\n",
    "import pickle\n"
   ]
  },
  {
   "cell_type": "code",
   "execution_count": 2,
   "id": "eb0cf32d",
   "metadata": {},
   "outputs": [],
   "source": [
    "def extract_features(df, cols, period=12):\n",
    "    feats = []\n",
    "    for c in cols:\n",
    "        s = df[c].dropna()\n",
    "        if len(s) < 24:\n",
    "            row = {\"trend\":0, \"yoy\":0, \"season\":0, \"volatility\":0, \"cv\":0}\n",
    "        else:\n",
    "            row = {\n",
    "                \"trend\": np.polyfit(range(len(s)), s, 1)[0],\n",
    "                \"yoy\": s.pct_change(period).mean()*100,\n",
    "                \"season\": STL(s, period=period, robust=True).fit().seasonal.std(),\n",
    "                \"volatility\": s.pct_change().std()*100,\n",
    "                \"cv\": s.std()/s.mean() if s.mean() != 0 else 0\n",
    "            }\n",
    "        feats.append(row)\n",
    "    return pd.DataFrame(feats, index=cols)\n"
   ]
  },
  {
   "cell_type": "code",
   "execution_count": 3,
   "id": "9f275394",
   "metadata": {},
   "outputs": [],
   "source": [
    "\n",
    "# Calcul sur la période d’étude principale\n",
    "df = pd.read_csv(\"data/Base_fin.csv\", index_col=0, parse_dates=True)\n",
    "cols = [c for c in df.columns if c not in ['IHPC','Inflation','InflationGliss', 'mois_deb_couv','annee_fin_couv','mois_fin_couv']]\n",
    "X = extract_features(df, cols)\n",
    "\n",
    "scaler = StandardScaler()\n",
    "X_std = scaler.fit_transform(X)\n",
    "k = 4  # nombre optimal choisi à valider\n"
   ]
  },
  {
   "cell_type": "code",
   "execution_count": 33,
   "id": "e854551a",
   "metadata": {},
   "outputs": [],
   "source": [
    "\n",
    "# Attribuer des noms automatiques aux clusters\n",
    "def name_cluster(df):\n",
    "    if df['trend'].mean() > 0.3 and df['season'].mean() > 0.8:\n",
    "        return \"Saisonnier à forte inflation\"\n",
    "    if df['trend'].mean() < 0.1 and df['season'].mean() < 0.4:\n",
    "        return \"Stable et peu saisonnier\"\n",
    "    if df['volatility'].mean() > 6:\n",
    "        return \"Très volatil\"\n",
    "    return \"Mixte ou modéré\"\n",
    "    \n"
   ]
  },
  {
   "cell_type": "code",
   "execution_count": 14,
   "id": "61861f42",
   "metadata": {},
   "outputs": [
    {
     "data": {
      "application/vnd.microsoft.datawrangler.viewer.v0+json": {
       "columns": [
        {
         "name": "index",
         "rawType": "object",
         "type": "string"
        },
        {
         "name": "trend",
         "rawType": "float64",
         "type": "float"
        },
        {
         "name": "yoy",
         "rawType": "float64",
         "type": "float"
        },
        {
         "name": "season",
         "rawType": "float64",
         "type": "float"
        },
        {
         "name": "volatility",
         "rawType": "float64",
         "type": "float"
        },
        {
         "name": "cv",
         "rawType": "float64",
         "type": "float"
        },
        {
         "name": "cluster",
         "rawType": "float64",
         "type": "float"
        }
       ],
       "ref": "3002956c-0de3-4b88-9364-75e1a3cf1822",
       "rows": [
        [
         "count",
         "17.0",
         "17.0",
         "17.0",
         "17.0",
         "17.0",
         "17.0"
        ],
        [
         "mean",
         "0.4113710973573048",
         "4.2404780355805425",
         "3.151719812279172",
         "5.768344271504896",
         "0.13516420538823484",
         "1.0"
        ],
        [
         "std",
         "0.23503022551999847",
         "1.6399788172975234",
         "1.2121451881845835",
         "2.852258326656085",
         "0.027796446149357293",
         "0.0"
        ],
        [
         "min",
         "-0.12331117928770022",
         "1.474982036713522",
         "1.4713931713375004",
         "1.4619840319508846",
         "0.08541968790906262",
         "1.0"
        ],
        [
         "25%",
         "0.21757575664463105",
         "2.9695039580977087",
         "2.609456889010717",
         "4.083784785339474",
         "0.11777375859765273",
         "1.0"
        ],
        [
         "50%",
         "0.5075994355394401",
         "4.510327094216587",
         "2.7501164628740975",
         "5.215862958834173",
         "0.13501246119554233",
         "1.0"
        ],
        [
         "75%",
         "0.5787144610660258",
         "5.384485095505739",
         "3.4680955041350674",
         "6.7611811138938345",
         "0.15510298875545425",
         "1.0"
        ],
        [
         "max",
         "0.6716141757593306",
         "7.028618876777408",
         "5.663642619829546",
         "13.07584858981301",
         "0.17785635595268204",
         "1.0"
        ]
       ],
       "shape": {
        "columns": 6,
        "rows": 8
       }
      },
      "text/html": [
       "<div>\n",
       "<style scoped>\n",
       "    .dataframe tbody tr th:only-of-type {\n",
       "        vertical-align: middle;\n",
       "    }\n",
       "\n",
       "    .dataframe tbody tr th {\n",
       "        vertical-align: top;\n",
       "    }\n",
       "\n",
       "    .dataframe thead th {\n",
       "        text-align: right;\n",
       "    }\n",
       "</style>\n",
       "<table border=\"1\" class=\"dataframe\">\n",
       "  <thead>\n",
       "    <tr style=\"text-align: right;\">\n",
       "      <th></th>\n",
       "      <th>trend</th>\n",
       "      <th>yoy</th>\n",
       "      <th>season</th>\n",
       "      <th>volatility</th>\n",
       "      <th>cv</th>\n",
       "      <th>cluster</th>\n",
       "    </tr>\n",
       "  </thead>\n",
       "  <tbody>\n",
       "    <tr>\n",
       "      <th>count</th>\n",
       "      <td>17.000000</td>\n",
       "      <td>17.000000</td>\n",
       "      <td>17.000000</td>\n",
       "      <td>17.000000</td>\n",
       "      <td>17.000000</td>\n",
       "      <td>17.0</td>\n",
       "    </tr>\n",
       "    <tr>\n",
       "      <th>mean</th>\n",
       "      <td>0.411371</td>\n",
       "      <td>4.240478</td>\n",
       "      <td>3.151720</td>\n",
       "      <td>5.768344</td>\n",
       "      <td>0.135164</td>\n",
       "      <td>1.0</td>\n",
       "    </tr>\n",
       "    <tr>\n",
       "      <th>std</th>\n",
       "      <td>0.235030</td>\n",
       "      <td>1.639979</td>\n",
       "      <td>1.212145</td>\n",
       "      <td>2.852258</td>\n",
       "      <td>0.027796</td>\n",
       "      <td>0.0</td>\n",
       "    </tr>\n",
       "    <tr>\n",
       "      <th>min</th>\n",
       "      <td>-0.123311</td>\n",
       "      <td>1.474982</td>\n",
       "      <td>1.471393</td>\n",
       "      <td>1.461984</td>\n",
       "      <td>0.085420</td>\n",
       "      <td>1.0</td>\n",
       "    </tr>\n",
       "    <tr>\n",
       "      <th>25%</th>\n",
       "      <td>0.217576</td>\n",
       "      <td>2.969504</td>\n",
       "      <td>2.609457</td>\n",
       "      <td>4.083785</td>\n",
       "      <td>0.117774</td>\n",
       "      <td>1.0</td>\n",
       "    </tr>\n",
       "    <tr>\n",
       "      <th>50%</th>\n",
       "      <td>0.507599</td>\n",
       "      <td>4.510327</td>\n",
       "      <td>2.750116</td>\n",
       "      <td>5.215863</td>\n",
       "      <td>0.135012</td>\n",
       "      <td>1.0</td>\n",
       "    </tr>\n",
       "    <tr>\n",
       "      <th>75%</th>\n",
       "      <td>0.578714</td>\n",
       "      <td>5.384485</td>\n",
       "      <td>3.468096</td>\n",
       "      <td>6.761181</td>\n",
       "      <td>0.155103</td>\n",
       "      <td>1.0</td>\n",
       "    </tr>\n",
       "    <tr>\n",
       "      <th>max</th>\n",
       "      <td>0.671614</td>\n",
       "      <td>7.028619</td>\n",
       "      <td>5.663643</td>\n",
       "      <td>13.075849</td>\n",
       "      <td>0.177856</td>\n",
       "      <td>1.0</td>\n",
       "    </tr>\n",
       "  </tbody>\n",
       "</table>\n",
       "</div>"
      ],
      "text/plain": [
       "           trend        yoy     season  volatility         cv  cluster\n",
       "count  17.000000  17.000000  17.000000   17.000000  17.000000     17.0\n",
       "mean    0.411371   4.240478   3.151720    5.768344   0.135164      1.0\n",
       "std     0.235030   1.639979   1.212145    2.852258   0.027796      0.0\n",
       "min    -0.123311   1.474982   1.471393    1.461984   0.085420      1.0\n",
       "25%     0.217576   2.969504   2.609457    4.083785   0.117774      1.0\n",
       "50%     0.507599   4.510327   2.750116    5.215863   0.135012      1.0\n",
       "75%     0.578714   5.384485   3.468096    6.761181   0.155103      1.0\n",
       "max     0.671614   7.028619   5.663643   13.075849   0.177856      1.0"
      ]
     },
     "execution_count": 14,
     "metadata": {},
     "output_type": "execute_result"
    }
   ],
   "source": [
    "X[X['cluster']==1].describe()"
   ]
  },
  {
   "cell_type": "code",
   "execution_count": 9,
   "id": "23045400",
   "metadata": {},
   "outputs": [
    {
     "data": {
      "application/vnd.microsoft.datawrangler.viewer.v0+json": {
       "columns": [
        {
         "name": "index",
         "rawType": "int64",
         "type": "integer"
        },
        {
         "name": "cluster",
         "rawType": "int32",
         "type": "integer"
        },
        {
         "name": "nom",
         "rawType": "object",
         "type": "string"
        },
        {
         "name": "trend",
         "rawType": "float64",
         "type": "float"
        },
        {
         "name": "season",
         "rawType": "float64",
         "type": "float"
        },
        {
         "name": "volatility",
         "rawType": "float64",
         "type": "float"
        },
        {
         "name": "yoy",
         "rawType": "float64",
         "type": "float"
        },
        {
         "name": "cv",
         "rawType": "float64",
         "type": "float"
        },
        {
         "name": "postes",
         "rawType": "object",
         "type": "unknown"
        }
       ],
       "ref": "955b7376-b181-4ea4-97ae-27a7248d228a",
       "rows": [
        [
         "0",
         "0",
         "Mixte ou modéré",
         "0.05549097944446609",
         "0.6606573948897941",
         "1.211040694687448",
         "0.6602750573396297",
         "0.029567028382019574",
         "['APPAREILS_DE_RECEPTION_ENREGISTREMENT_ET_REPRODUCTION', 'APPAREILS_ET_ARTICLES_POUR_SOINS_CORPORELS', 'APPAREILS_ET_MATERIEL_THERAPEUTIQUES', \"ARTICLES_DE_BIJOUTERIE_ET_D'HORLOGERIE\", 'ASSURANCE_TRANSPORT', 'AUTOMOBILE', \"AUTRES_ARTICLES_VESTIMENTAIRES_ET_ACCESSOIRES_D'HABILLEMENT\", 'AUTRES_EFFETS_PERSONNELS', 'AUTRES_SERVICES_N.C.A.', 'AUTRES_SERVICES_RELATIFS_AUX_VEHICULES_PERSONNELS', 'BEURRE_MARGARINE', 'BIENS_ET_SERVICES_DIVERS', 'BIERE', 'BOISSONS_ALCOOLISEES_TABAC_ET_STUPEFIANTS', 'BOISSONS_NON_ALCOOLISEES_INDUSTRIELLES', 'COMMUNICATION_TELEPHONIQUE', 'CONFECTION_ET_REPARATIONS_VETEMENTS_HOMMES', 'CONFITURE_MIEL_CHOCOLAT_ET_CONFISERIE', 'CYCLE_MOTOCYCLE_ET_VEHICULE_A_TRACTION_ANIMALE', 'ENSEIGNEMENT', 'ENSEIGNEMENT_POST_SECONDAIRE_NON_SUPERIEUR', 'ENSEIGNEMENT_SECONDAIRE', 'ENSEIGNEMENT_SUPERIEUR', 'EQUIPEMENT_PHOTOGRAPHIQUE_CINEMATOGRAPHIQUE_OPTIQUE_AUTRE_BIEN_DURABLE_A_FONCTION_RECREATIVE_ET_CULTURELLE', 'FRAIS_DE_CONNEXION_INTERNET_ET_ASSIMILES', 'JEUX_DE_HASARD', 'JEUX_ET_JOUETS_PASSE_TEMPS_ET_ARTICLES_DE_SPORT_MATERIEL_C', 'JOURNAUX_ET_PUBLICATIONS_PERIODIQUES', 'LAITS_INFANTILES_ET_FARINES_LACTEES_POUR_BEBE', 'LIVRES_SCOLAIRES_ET_AUTRES_LIVRES', 'LOISIRS_ET_CULTURE', 'MATERIEL_DE_TELEPHONIE_ET_DE_TELECOPIE', \"MATERIEL_DE_TRAITEMENT_DE_L'INFORMATION_ET_SUPPORTS_D'ENREGISTREMENT_DE_L'IMAGE_ET_DU_SON\", 'MEDICAMENTS_MODERNES', 'OEUFS', 'OUTILLAGE_MATERIEL_ET_ACCESSOIRES_DIVERS', 'PAPETERIE_ET_IMPRIMES_DIVERS', 'PATISSERIES_GATEAUX_BISCUITS_VIENOISERIES', 'PIECES_DETACHEES_ET_ACCESSOIRES', 'PORC', 'PRODUITS_LAITIERS', 'PRODUITS_MEDICAUX_DIVERS', 'PRODUITS_POUR_JARDINS_PLANTES_ET_FLEURS_ANIMAUX_DE_COMPAGNIE_ET_ARTICLES_CONNEXES_ET_AUTRES_SERVICES_POUR_ANIMAUX_DE_COMPAGNIE', 'PRODUITS_POUR_SOINS_CORPORELS', 'PROTECTION_SOCIALE_ET_AUTRES_ASSURANCES', 'RESTAURANTS_ET_HOTELS', 'SANTE', 'SERVICES_CULTURELS_RECREATIFS_ET_SPORTIFS', 'SERVICES_DES_AUXILIAIRES_MEDICAUX', 'SERVICES_FINANCIERS', 'SERVICES_HOSPITALIERS', 'SERVICES_MEDICAUX_ET_DENTAIRES', 'SERVICES_POSTAUX', 'SOUS_VETEMENTS_FEMMES', 'SOUS_VETEMENTS_HOMMES', 'TENUES_SCOLAIRES', 'VETEMENTS_DE_DESSUS_FEMMES', 'VETEMENTS_DE_DESSUS_HOMMES', 'VETEMENTS_ENFANTS_(3_A_13_ANS)_ET_NOURRISSONS_(0_A_2_ANS)', 'VIN_ET_BOISSONS_FERMENTEES']"
        ],
        [
         "1",
         "1",
         "Saisonnier à forte inflation",
         "0.4113710973573048",
         "3.151719812279172",
         "5.768344271504896",
         "4.2404780355805425",
         "0.13516420538823484",
         "['BOISSONS_NON_ALCOOLISEES_ARTISANALES', 'COMBUSTIBLES_LIQUIDES', 'COMBUSTIBLES_SOLIDES_ET_AUTRES', 'FARINES_SEMOULES_ET_GRUAUX', 'FORFAIT_ET_CIRCUITS_TOURISTIQUES_COMPOSITES', 'HUILES', 'LEGUMES_FRAIS_EN_FEUILLES', 'LEGUMES_SECS_ET_OLEAGINEUX', 'MEDICAMENTS_TRADITIONNELS', 'MOUTON_CHEVRE', 'PAINS', 'POISSONS_ET_AUTRES_PRODUITS_SECHES_OU_FUMES', 'POISSONS_FRAIS', 'SEL_EPICES_SAUCES_ET_PRODUITS_ALIMENTAIRES_N.D.A', \"SERVICES_D'ENTRETIEN_ET_DE_REPARATIONS_COURANTES\", \"SERVICES_POUR_L'HABITATION_SAUF_SERVICES_DOMESTIQUES\", 'TRANSPORT_AERIEN_DE_PASSAGERS']"
        ],
        [
         "2",
         "2",
         "Saisonnier à forte inflation",
         "0.875601096706062",
         "8.380680515630756",
         "7.812871051096963",
         "8.09358443010981",
         "0.20222130112437248",
         "['AGRUMES', 'AUTRES_FRUITS_FRAIS', 'AUTRES_MATIERES_GRASSES', 'AUTRES_PRODUITS_A_BASE_DE_TUBERCULES_ET_DE_PLANTAIN', 'AUTRES_PRODUITS_FRAIS_DE_MER_OU_DE_FLEUVE', 'CHARCUTERIE_ET_CONSERVES_AUTRES_VIANDES_ET_PREPARATIONS_A_BASE_DE_VIANDE', 'LEGUMES_FRAIS_EN_FRUITS_OU_RACINE', \"REPARATION_ET_LOCATION_D'ARTICLES_CHAUSSANTS\", 'TUBERCULES_ET_PLANTAIN']"
        ],
        [
         "3",
         "3",
         "Mixte ou modéré",
         "0.29921137595981717",
         "1.0000910310259212",
         "1.8137639535308019",
         "3.1372096722796483",
         "0.08227181229423723",
         "['ALCOOL_DE_BOUCHE', 'AUTRES_CONSERVES_DE_POISSONS', 'BOEUF', 'CAFE_THE_CACAO_ET_AUTRES_VEGETAUX_POUR_TISANES', 'CANTINES', 'CARBURANTS_ET_LUBRIFIANTS', 'CEREALES_NON_TRANSFORMEES', 'COMMUNICATION', 'CONFECTION_ET_REPARATIONS_VETEMENTS_ENFANTS', 'CONFECTION_ET_REPARATIONS_VETEMENTS_FEMMES', 'ENSEIGNEMENT_NON_DEFINI_PAR_NIVEAU', 'ENSEIGNEMENT_PRE_ELEMENTAIRE_ET_PRIMAIRE', 'ENTRETIEN_ET_REPARATIONS_DE_VEHICULES_PARTICULIERS', 'FRUITS_SECS_ET_NOIX', \"HOTELS_ET_AUTRES_SERVICES_D'HEBERGEMENT\", 'LAIT', 'LOYERS_EFFECTIFS_DES_LOCATAIRES_ET_SOUS_LOCATAIRES', 'NETTOYAGE_ET_BLANCHISSAGE_DES_VETEMENTS', 'PATES_ALIMENTAIRES', 'PRODUITS_ALIMENTAIRES_ET_BOISSONS_NON_ALCOOLISEES', \"PRODUITS_POUR_L'ENTRETIEN_ET_REPARATION_COURANTE\", 'RESTAURANTS_CAFES_ET_ETABLISSEMENTS_SIMILAIRES', 'SALONS_DE_COIFFURE_ET_INSTITUTS_DE_SOINS_ET_DE_BEAUTE', 'SERVICES_DE_LABORATOIRES_ET_DE_RADIOLOGIE', 'SERVICES_DOMESTIQUES', 'SUCRE', 'TABAC_ET_STUPEFIANTS', \"TISSUS_D'HABILLEMENT\", 'TRANSPORTS', 'TRANSPORT_ROUTIER_DE_PASSAGERS', 'VOLAILLE']"
        ]
       ],
       "shape": {
        "columns": 8,
        "rows": 4
       }
      },
      "text/html": [
       "<div>\n",
       "<style scoped>\n",
       "    .dataframe tbody tr th:only-of-type {\n",
       "        vertical-align: middle;\n",
       "    }\n",
       "\n",
       "    .dataframe tbody tr th {\n",
       "        vertical-align: top;\n",
       "    }\n",
       "\n",
       "    .dataframe thead th {\n",
       "        text-align: right;\n",
       "    }\n",
       "</style>\n",
       "<table border=\"1\" class=\"dataframe\">\n",
       "  <thead>\n",
       "    <tr style=\"text-align: right;\">\n",
       "      <th></th>\n",
       "      <th>cluster</th>\n",
       "      <th>nom</th>\n",
       "      <th>trend</th>\n",
       "      <th>season</th>\n",
       "      <th>volatility</th>\n",
       "      <th>yoy</th>\n",
       "      <th>cv</th>\n",
       "      <th>postes</th>\n",
       "    </tr>\n",
       "  </thead>\n",
       "  <tbody>\n",
       "    <tr>\n",
       "      <th>0</th>\n",
       "      <td>0</td>\n",
       "      <td>Mixte ou modéré</td>\n",
       "      <td>0.055491</td>\n",
       "      <td>0.660657</td>\n",
       "      <td>1.211041</td>\n",
       "      <td>0.660275</td>\n",
       "      <td>0.029567</td>\n",
       "      <td>[APPAREILS_DE_RECEPTION_ENREGISTREMENT_ET_REPR...</td>\n",
       "    </tr>\n",
       "    <tr>\n",
       "      <th>1</th>\n",
       "      <td>1</td>\n",
       "      <td>Saisonnier à forte inflation</td>\n",
       "      <td>0.411371</td>\n",
       "      <td>3.151720</td>\n",
       "      <td>5.768344</td>\n",
       "      <td>4.240478</td>\n",
       "      <td>0.135164</td>\n",
       "      <td>[BOISSONS_NON_ALCOOLISEES_ARTISANALES, COMBUST...</td>\n",
       "    </tr>\n",
       "    <tr>\n",
       "      <th>2</th>\n",
       "      <td>2</td>\n",
       "      <td>Saisonnier à forte inflation</td>\n",
       "      <td>0.875601</td>\n",
       "      <td>8.380681</td>\n",
       "      <td>7.812871</td>\n",
       "      <td>8.093584</td>\n",
       "      <td>0.202221</td>\n",
       "      <td>[AGRUMES, AUTRES_FRUITS_FRAIS, AUTRES_MATIERES...</td>\n",
       "    </tr>\n",
       "    <tr>\n",
       "      <th>3</th>\n",
       "      <td>3</td>\n",
       "      <td>Mixte ou modéré</td>\n",
       "      <td>0.299211</td>\n",
       "      <td>1.000091</td>\n",
       "      <td>1.813764</td>\n",
       "      <td>3.137210</td>\n",
       "      <td>0.082272</td>\n",
       "      <td>[ALCOOL_DE_BOUCHE, AUTRES_CONSERVES_DE_POISSON...</td>\n",
       "    </tr>\n",
       "  </tbody>\n",
       "</table>\n",
       "</div>"
      ],
      "text/plain": [
       "   cluster                           nom     trend    season  volatility  \\\n",
       "0        0               Mixte ou modéré  0.055491  0.660657    1.211041   \n",
       "1        1  Saisonnier à forte inflation  0.411371  3.151720    5.768344   \n",
       "2        2  Saisonnier à forte inflation  0.875601  8.380681    7.812871   \n",
       "3        3               Mixte ou modéré  0.299211  1.000091    1.813764   \n",
       "\n",
       "        yoy        cv                                             postes  \n",
       "0  0.660275  0.029567  [APPAREILS_DE_RECEPTION_ENREGISTREMENT_ET_REPR...  \n",
       "1  4.240478  0.135164  [BOISSONS_NON_ALCOOLISEES_ARTISANALES, COMBUST...  \n",
       "2  8.093584  0.202221  [AGRUMES, AUTRES_FRUITS_FRAIS, AUTRES_MATIERES...  \n",
       "3  3.137210  0.082272  [ALCOOL_DE_BOUCHE, AUTRES_CONSERVES_DE_POISSON...  "
      ]
     },
     "execution_count": 9,
     "metadata": {},
     "output_type": "execute_result"
    }
   ],
   "source": [
    "desc_df"
   ]
  },
  {
   "cell_type": "code",
   "execution_count": 15,
   "id": "4557570c",
   "metadata": {},
   "outputs": [],
   "source": [
    "# imports standard\n",
    "import pandas as pd, numpy as np, matplotlib.pyplot as plt, seaborn as sns\n",
    "from sklearn.preprocessing import StandardScaler, RobustScaler\n",
    "from sklearn.decomposition import PCA\n",
    "from sklearn.cluster import KMeans, AgglomerativeClustering, DBSCAN\n",
    "from sklearn.metrics import silhouette_score, calinski_harabasz_score, davies_bouldin_score\n",
    "from sklearn.compose import ColumnTransformer\n",
    "import plotly.express as px\n",
    "import warnings; warnings.filterwarnings(\"ignore\")\n",
    "from kneed import KneeLocator\n",
    "from scipy.cluster.hierarchy import linkage, dendrogram\n",
    "from IPython.display import Markdown\n",
    "\n",
    "%matplotlib inline\n"
   ]
  },
  {
   "cell_type": "code",
   "execution_count": 16,
   "id": "0b0afd41",
   "metadata": {},
   "outputs": [],
   "source": [
    "\n",
    "# 1. KMeans : elbow + silhouette\n",
    "def optimal_k_kmeans(X, k_range):\n",
    "    ks = list(k_range)\n",
    "    inertias, silhouettes = [], []\n",
    "    for k in ks:\n",
    "        km = KMeans(n_clusters=k, random_state=42).fit(X)\n",
    "        inertias.append(km.inertia_)  # WCSS \n",
    "        silhouettes.append(silhouette_score(X, km.labels_))  # silhouette \n",
    "    kl = KneeLocator(ks, inertias, curve='convex', direction='decreasing')\n",
    "    # Representation de l'elbow et la silhouette\n",
    "    plt.figure(figsize=(12, 5))\n",
    "    plt.subplot(1, 2, 1)\n",
    "    plt.plot(ks, inertias, marker='o')\n",
    "    plt.title(\"WCSS vs k\")\n",
    "    plt.xlabel(\"Nombre de clusters (k)\")\n",
    "    plt.ylabel(\"WCSS (Inertie)\")\n",
    "    plt.subplot(1, 2, 2)\n",
    "    plt.plot(ks, silhouettes, marker='o')\n",
    "    plt.title(\"Silhouette vs k\")\n",
    "    plt.xlabel(\"Nombre de clusters (k)\")\n",
    "    plt.ylabel(\"Score de silhouette\")\n",
    "    plt.tight_layout()\n",
    "    plt.show()\n",
    "    return kl.elbow, ks[np.argmax(silhouettes)], inertias, silhouettes\n",
    "\n",
    "# 2. CAH : dendrogramme + “inertie” manuelle + silhouette\n",
    "def optimal_k_agglo(X, k_range):\n",
    "    # 2.1 Affichage du dendrogramme pour repérer visuellement l’“elbow” \n",
    "    Z = linkage(X, method='ward')\n",
    "    plt.figure(figsize=(20, 5))\n",
    "    dendrogram(Z)\n",
    "    plt.title(\"Dendrogramme (CAH)\")\n",
    "    plt.xlabel(\"Échantillons\")\n",
    "    plt.ylabel(\"Distance\")\n",
    "    plt.show()\n",
    "    # 2.2 Calculs automatiques\n",
    "    ks = list(k_range)\n",
    "    inertias, silhouettes = [], []\n",
    "    for k in ks:\n",
    "        ac = AgglomerativeClustering(n_clusters=k, linkage='ward').fit(X)\n",
    "        labels = ac.labels_\n",
    "        silhouettes.append(silhouette_score(X, labels))  # silhouette \n",
    "        # Calcul WCSS “à la main” :\n",
    "        centroids = np.array([X[labels==i].mean(axis=0) for i in range(k)])\n",
    "        wcss = sum(np.sum((X[labels==i] - centroids[i])**2) for i in range(k))\n",
    "        inertias.append(wcss)\n",
    "    kl = KneeLocator(ks, inertias, curve='convex', direction='decreasing')\n",
    "    \n",
    "    # Representation de l'elbow et la silhouette\n",
    "    plt.figure(figsize=(12, 5))\n",
    "    plt.subplot(1, 2, 1)\n",
    "    plt.plot(ks, inertias, marker='o')\n",
    "    plt.title(\"WCSS vs k\")\n",
    "    plt.xlabel(\"Nombre de clusters (k)\")\n",
    "    plt.ylabel(\"WCSS (Inertie)\")\n",
    "    plt.subplot(1, 2, 2)\n",
    "    plt.plot(ks, silhouettes, marker='o')\n",
    "    plt.title(\"Silhouette vs k\")\n",
    "    plt.xlabel(\"Nombre de clusters (k)\")\n",
    "    plt.ylabel(\"Score de silhouette\")\n",
    "    plt.tight_layout()\n",
    "    plt.show()\n",
    "    return kl.elbow, ks[np.argmax(silhouettes)], inertias, silhouettes\n"
   ]
  },
  {
   "cell_type": "code",
   "execution_count": 17,
   "id": "82cddcc0",
   "metadata": {},
   "outputs": [
    {
     "data": {
      "image/png": "[encoded data removed]",
      "text/plain": [
       "<Figure size 1200x500 with 2 Axes>"
      ]
     },
     "metadata": {},
     "output_type": "display_data"
    },
    {
     "name": "stdout",
     "output_type": "stream",
     "text": [
      "KMeans optimal (elbow): 5, (silhouette): 2\n"
     ]
    },
    {
     "data": {
      "image/png": "[encoded data removed]",
      "text/plain": [
       "<Figure size 2000x500 with 1 Axes>"
      ]
     },
     "metadata": {},
     "output_type": "display_data"
    },
    {
     "data": {
      "image/png": "[encoded data removed]",
      "text/plain": [
       "<Figure size 1200x500 with 2 Axes>"
      ]
     },
     "metadata": {},
     "output_type": "display_data"
    },
    {
     "name": "stdout",
     "output_type": "stream",
     "text": [
      "CAH optimal (elbow): 5, (silhouette): 2\n"
     ]
    }
   ],
   "source": [
    "# --- UTILISATION SUR MON JEU DE DONNÉES X_pca ---\n",
    "ks = range(3, 11)\n",
    "\n",
    "# GRID-SEARCH\n",
    "ks = range(2, 11)  # Si vous voulez tester un autre interval   \n",
    "\n",
    "# KMeans\n",
    "k_elbow_km, k_sil_km, inert_km, sil_km = optimal_k_kmeans(X_std, ks)\n",
    "print(f\"KMeans optimal (elbow): {k_elbow_km}, (silhouette): {k_sil_km}\")\n",
    "\n",
    "# CAH\n",
    "k_elbow_ac, k_sil_ac, inert_ac, sil_ac = optimal_k_agglo(X_std, ks)\n",
    "print(f\"CAH optimal (elbow): {k_elbow_ac}, (silhouette): {k_sil_ac}\")"
   ]
  },
  {
   "cell_type": "code",
   "execution_count": 18,
   "id": "658c7d12",
   "metadata": {},
   "outputs": [],
   "source": [
    "# Génération des labels finaux\n",
    "labels_km = KMeans(n_clusters=3, random_state=42).fit_predict(X_std)\n",
    "labels_ac = AgglomerativeClustering(n_clusters=4, linkage='ward').fit_predict(X_std)"
   ]
  },
  {
   "cell_type": "code",
   "execution_count": 26,
   "id": "9090162e",
   "metadata": {},
   "outputs": [],
   "source": [
    "X['Cluster_KMeans'] = labels_km\n",
    "X['Cluster_CAH'] = labels_ac"
   ]
  },
  {
   "cell_type": "code",
   "execution_count": null,
   "id": "8d424522",
   "metadata": {},
   "outputs": [],
   "source": [
    "X"
   ]
  },
  {
   "cell_type": "code",
   "execution_count": 31,
   "id": "11a0972c",
   "metadata": {},
   "outputs": [
    {
     "data": {
      "application/vnd.plotly.v1+json": {
       "config": {
        "plotlyServerURL": "https://plot.ly"
       },
       "data": [
        {
         "hovertemplate": "trend=%{x}<br>volatility=%{y}<br>season=%{z}<br>Cluster_KMeans=%{marker.color}<extra></extra>",
         "legendgroup": "",
         "marker": {
          "color": {
           "bdata": "AgAAAAAAAAAAAAAAAAAAAAAAAAAAAAAAAAAAAAAAAAAAAAAAAAAAAAAAAAACAAAAAgAAAAIAAAACAAAAAAAAAAAAAAAAAAAAAAAAAAAAAAABAAAAAAAAAAEAAAAAAAAAAQAAAAEAAAABAAAAAQAAAAIAAAABAAAAAQAAAAEAAAAAAAAAAQAAAAEAAAAAAAAAAAAAAAAAAAAAAAAAAQAAAAAAAAABAAAAAAAAAAAAAAABAAAAAAAAAAIAAAABAAAAAAAAAAAAAAAAAAAAAQAAAAAAAAAAAAAAAAAAAAEAAAAAAAAAAgAAAAIAAAABAAAAAAAAAAAAAAABAAAAAAAAAAAAAAAAAAAAAQAAAAEAAAAAAAAAAAAAAAAAAAABAAAAAAAAAAEAAAAAAAAAAAAAAAIAAAABAAAAAAAAAAEAAAAAAAAAAAAAAAAAAAAAAAAAAAAAAAAAAAACAAAAAAAAAAAAAAABAAAAAAAAAAEAAAAAAAAAAQAAAAAAAAABAAAAAQAAAAAAAAAAAAAAAAAAAAAAAAABAAAAAAAAAAAAAAABAAAAAQAAAAAAAAAAAAAAAQAAAAEAAAABAAAAAgAAAAAAAAAAAAAAAAAAAAAAAAABAAAA",
           "dtype": "i4"
          },
          "coloraxis": "coloraxis",
          "opacity": 0.7,
          "size": 10,
          "symbol": "circle"
         },
         "mode": "markers",
         "name": "",
         "scene": "scene",
         "showlegend": false,
         "type": "scatter3d",
         "x": {
          "bdata": "XW5w0UH/2z80XcV21SvHPwCWwkXbILi/x4t0C2lLhL+4zRyuosuqP7T30eQLDL0/NWJF+vqgez9iEEbFJkqeP0IGyavZOJo//E8skrsvzj/xebA5TcmsP5NTpMiOneY/4P6WQnHF5D/qcav/OADqPxbNFb875Ps/O72vL0SVxj9MPR8kBHS0PzJGmWHszcI/bycAg1DrdT8CmyFuXG+Ev4k9FIK5KN0/303Q9heiqT8SDheBdaXCP8lGJbQHZqg/Gm9G5ete0D+qeKPn4vrSP/jlVh/j39I/yLICjv7b1j//xtyxqWfmP5/C7IMCft4/S7IwYeUGyD8yqWB6ORXSPxe6K6WNVbo/wgEyBYcs0j8HdPymec/WPxzt6D++j8Y/g3s2OxO/vD8cDmvVFxq5P/leMiQh3tK//Z6OcTwC1D+J0scL11CkP/4DLn/Xet8/rGUSq/UKwj9yA5Az5L6fv0p7YXrMmeA/QwC1Y5o+pb9O/8q90tPjPxIJkyfAprk/7D6KQ2+4tj8ABP/vcvbCP7bhbE6ZcMI/0wGzQw+F4T9BEkuc1e21P8PvLhtNpcQ/JWNTgGExoT8vIgfO7ODTPzQweNY7BME/f3o8u5x44j/5e7ElmQnfP+4GgDDUhOI/57yvb0qyjj+jI94n43+rv9YqeOg9ZeA/Ze5GAV61iz/6BD/tdkW1v7wtGUCybb8/8phFSlKRv7/z1I4P0XngP5hcbdVeAs4/g9xPJRr1vz/DBu9AugLCP3F3mLuF2cs/4yRrxHv0tz8Wv8zHhKnRP3RpyK+GNbU/LOeAizeytT+AUg0D3X3lP7ZuUS//S9w/3s6Vhn24uT8QX5JnDRTSP02YpT6K0ak/MCQFtu/zsj+z6GsIfb24PyHhfAT79M0/p7p/MhibrT+NQ7tyb8WsP5fRkmI9HPQ/+cQG7Xbmzj9YEDjpM6ydvyVAIeLTROA/s+hrCH29uD/BhOMrQT7gP1/vALOADa8/TKHAJvdX5T8Ho7DbPFutP4y9SN19N9E/UpdJF/FX0T9vq4860+mtvwAXVTes7bU/lyvO59bksz/JV/5lFnTAPxGVZV3go+M/rkNHV8cPmz/RdGUSfMCdvxt7o4E9b9A/OLOQFG8p0D/mim5buKO/P26lEbH+msg/G7Pi10Gv0D8eZqs7u9/PPy0ydnMhwtc/oBoxawdu8T881ueIzve4P9lhqW2FSIs/Vl9vOExcrz+v24r++mPEP8VRoZL98Mc/",
          "dtype": "f8"
         },
         "y": {
          "bdata": "MB9phF/mJ0A+QXzFUkj9P+rkHdBhlvQ/fjo95k1W/T9CH8IdW2rqP3wmkXV+efE/hlpbEDEr9T9tw1+TOCkBQK65ebx2NOk/B8sGJDFZ6z/vS74cEb3mP+8uhtOnuBlAXi/B18MoGkDTd8O6lOcWQHvOTfqF9ydA+MeTQ8FL8z8kZN/lIir0P0G5oKVYzv4/Xqdq1K/LA0BQ0WBifl/mP52dYMWcXPY/wu2PaaEE5D+UcwDntb8bQPw1JnO0S+U/eY8gFc2qCEBlebghMtkGQBON+1fwkQRAhVUwr02p8z8YiGEFYrUeQCCJmd84Dx1ATfpUrbX3E0CPx5zHktQAQFrmhuyNp+U/gpOmpb0zBkAqQqRI4gfyP8zM4AWp9ek/LUwLT2Av/T+mYUN7XuryP2neSXOz+QRAHzH14L+xAUAjOc6mujLkP8aIGQ5NYfw/IGwOYmsG6D+S0U+pgxnqP33FAz9BKvI/AM7THbWY6z8JB9oPcwsbQJ6rvffSXSZATrwfhNZ+5D8gCYKtH2T8Pzhojl3KYBFA9QYaLxa9EECSQh7Jnyb+P6sYI818fug/9Rv5Qh4A5j+VP2lQKUv0P37TOE36fuw/kaFOKWePGEDxTsM68rYcQCy90nHblQtAziLhq9YJ4j+YY0KteznqP1QdQgdiFeQ/xUiPeZI89D+ATMGZ/UnpP+l7YucR7Oo/omNZoNUmKkCEc4yl73gJQGZzxf9QRew/VKEijeYn+j8doktpkmzZPztafi7qaxlAPmwUUUvu8T/fe2CaRzHxP5MDLt4z5P8/GD1hklPG5j/+x5Fm0CYSQN+9w63LVRBA+mZRFRQLD0DTztcRSI8BQAYUirTrH+c/dRQ9qSBj6D9q5+CuBNvuP2X7YW0DcOw/1FxY4jN66T9kTZb82NkUQNq5nOhVvxVA6SojMYBP6D+5xm2XHYv/P4YK5QELx/g/aufgrgTb7j8CvjCDO18OQO5OoZWeG/A/Yw1IXklk9z9eyHeEm+jmP8Qy/nh6d/s/u/kf+hPlBEAwbK12O9XnPw/SCf8/Yt8/qhYw0eZb/z8qnUWs5g/+Pzlx8i0L3RRAxUHeUCYQ6T9Gq5sEwY/qPylYeP0pKAJAS4bsAuHIAEDysGjWJcnpP6RG984Mdew/LxszCnPz8D9pV8QoycEVQHyo+MuWp/Y/kH8h3/WSHUCn6SOruM/xP1p9EMOS8eY/od4bLbma8D94DsRG3jL0Px9k3Uo/0Q5A",
          "dtype": "f8"
         },
         "z": {
          "bdata": "rGjgW2koMEC4YdA/nkn0PwMJFOJycOc/fuBbHLiN3T+waloBVuTnPwMEwti+NOc/SBcFFv6tyT/pNTXKuI7wP/jMySmd894/4x9MUFZw6T/yAU7OMyriPye5dTXBphhAEsvCjRS4G0BSwUZSiqMXQGoCVcsZRCVAGy0ySadn8z+TOo/Gi5nWP+7MH4oe4/Q/Xu7RZtoF7z+U7O16vLXaP5DZOqHLTPY/8NS8f3HQ2D8BqKR/dHURQDjCtbGPads/rJH+5RUr+T82f2fv6loCQM3eYMmGmOg/pHj3y66y8j8EgqqPAc0TQCSj5xf2hv8/36uwoJjUBUDFwvr0PpPUP4uKwbhWoNc/T2QBFREd7j+j96G31afpP6iBr38E3OA/EvxTt+1N7z+EEijv+3niP+0y8LSCdtk/bQyw7Og9+j9qEo5il/TQPwvW/Kaote4/E0jEModU6T8cLjJKBrzlP1KrXyUFSOQ/7AMtFkPI3z97q4kaJOkRQGuUstHyGAZAJjL7j2kE2j+fairtCzHpP6H2U+mejes/lEbhHM7RBUDKHZ54RBf1P+Uqzf5KGNk/xcUHSrFezj93QtVmz6HfP7dZ5wJu5ts/PC6hgdbeFUByh+gTXu4gQL0NxhypMgBArNjXm8C90T9JuekMoPDYP9A+m6UkiOM/5T9aNknJ5T/oQ1zGuzHfP2yAXnAtT9Q/QZlR7pGnFkCz5/Rjuhn9PyJ/Vbfent0/IxzjbaQg5j8oJIET73THPwPSNw2b7gVAgWeIgp8f8D9gUov0aVbiPxW+yX2JHfI/RWaNrB02zT9nUQ3bqL4LQPXSvXE9iAhAeNZDJeuaCUDoxqsvlcX/P5cykD/49dA/qMU+osxI4T95IZjsi/jgP0giE6PZ8eM/cqrvaK/Z2T/jhUGJ+wP+Pwj+pZ+plwdAEYp/i9+D4T83iq1EOLjlP4lUlhJgefQ/eSGY7Iv44D96HWnJlroLQHxnVEzP4uM/kzznkNOK9z+T3qnp1LLTP9Dph9RPy+w/WTCaO59y4z+9A/e14GTXPwGmsqLqytY/3+8T7djk8z+Mi4S8J6j0PzLiYQ89AAZA9o0Wt+zP1j+MFiv64DHhPz7own3ODvM/esP/lPyN+D88Hwx+lv3bP6pcxPzJO+Q/BIxzCuAh4j/D+/TuKuAEQNqmsMvnj+M/irXKMEeJKkAbQlAC5mrlP9MdtjG6zeA/MErkdPdz6D8IppVuPQvrP7Q76rv5ZgFA",
          "dtype": "f8"
         }
        }
       ],
       "layout": {
        "coloraxis": {
         "colorbar": {
          "title": {
           "text": "Cluster_KMeans"
          }
         },
         "colorscale": [
          [
           0,
           "#0d0887"
          ],
          [
           0.1111111111111111,
           "#46039f"
          ],
          [
           0.2222222222222222,
           "#7201a8"
          ],
          [
           0.3333333333333333,
           "#9c179e"
          ],
          [
           0.4444444444444444,
           "#bd3786"
          ],
          [
           0.5555555555555556,
           "#d8576b"
          ],
          [
           0.6666666666666666,
           "#ed7953"
          ],
          [
           0.7777777777777778,
           "#fb9f3a"
          ],
          [
           0.8888888888888888,
           "#fdca26"
          ],
          [
           1,
           "#f0f921"
          ]
         ]
        },
        "height": 1000,
        "legend": {
         "tracegroupgap": 0
        },
        "scene": {
         "domain": {
          "x": [
           0,
           1
          ],
          "y": [
           0,
           1
          ]
         },
         "xaxis": {
          "title": {
           "text": "trend"
          }
         },
         "yaxis": {
          "title": {
           "text": "volatility"
          }
         },
         "zaxis": {
          "title": {
           "text": "season"
          }
         }
        },
        "template": {
         "data": {
          "bar": [
           {
            "error_x": {
             "color": "#2a3f5f"
            },
            "error_y": {
             "color": "#2a3f5f"
            },
            "marker": {
             "line": {
              "color": "#E5ECF6",
              "width": 0.5
             },
             "pattern": {
              "fillmode": "overlay",
              "size": 10,
              "solidity": 0.2
             }
            },
            "type": "bar"
           }
          ],
          "barpolar": [
           {
            "marker": {
             "line": {
              "color": "#E5ECF6",
              "width": 0.5
             },
             "pattern": {
              "fillmode": "overlay",
              "size": 10,
              "solidity": 0.2
             }
            },
            "type": "barpolar"
           }
          ],
          "carpet": [
           {
            "aaxis": {
             "endlinecolor": "#2a3f5f",
             "gridcolor": "white",
             "linecolor": "white",
             "minorgridcolor": "white",
             "startlinecolor": "#2a3f5f"
            },
            "baxis": {
             "endlinecolor": "#2a3f5f",
             "gridcolor": "white",
             "linecolor": "white",
             "minorgridcolor": "white",
             "startlinecolor": "#2a3f5f"
            },
            "type": "carpet"
           }
          ],
          "choropleth": [
           {
            "colorbar": {
             "outlinewidth": 0,
             "ticks": ""
            },
            "type": "choropleth"
           }
          ],
          "contour": [
           {
            "colorbar": {
             "outlinewidth": 0,
             "ticks": ""
            },
            "colorscale": [
             [
              0,
              "#0d0887"
             ],
             [
              0.1111111111111111,
              "#46039f"
             ],
             [
              0.2222222222222222,
              "#7201a8"
             ],
             [
              0.3333333333333333,
              "#9c179e"
             ],
             [
              0.4444444444444444,
              "#bd3786"
             ],
             [
              0.5555555555555556,
              "#d8576b"
             ],
             [
              0.6666666666666666,
              "#ed7953"
             ],
             [
              0.7777777777777778,
              "#fb9f3a"
             ],
             [
              0.8888888888888888,
              "#fdca26"
             ],
             [
              1,
              "#f0f921"
             ]
            ],
            "type": "contour"
           }
          ],
          "contourcarpet": [
           {
            "colorbar": {
             "outlinewidth": 0,
             "ticks": ""
            },
            "type": "contourcarpet"
           }
          ],
          "heatmap": [
           {
            "colorbar": {
             "outlinewidth": 0,
             "ticks": ""
            },
            "colorscale": [
             [
              0,
              "#0d0887"
             ],
             [
              0.1111111111111111,
              "#46039f"
             ],
             [
              0.2222222222222222,
              "#7201a8"
             ],
             [
              0.3333333333333333,
              "#9c179e"
             ],
             [
              0.4444444444444444,
              "#bd3786"
             ],
             [
              0.5555555555555556,
              "#d8576b"
             ],
             [
              0.6666666666666666,
              "#ed7953"
             ],
             [
              0.7777777777777778,
              "#fb9f3a"
             ],
             [
              0.8888888888888888,
              "#fdca26"
             ],
             [
              1,
              "#f0f921"
             ]
            ],
            "type": "heatmap"
           }
          ],
          "histogram": [
           {
            "marker": {
             "pattern": {
              "fillmode": "overlay",
              "size": 10,
              "solidity": 0.2
             }
            },
            "type": "histogram"
           }
          ],
          "histogram2d": [
           {
            "colorbar": {
             "outlinewidth": 0,
             "ticks": ""
            },
            "colorscale": [
             [
              0,
              "#0d0887"
             ],
             [
              0.1111111111111111,
              "#46039f"
             ],
             [
              0.2222222222222222,
              "#7201a8"
             ],
             [
              0.3333333333333333,
              "#9c179e"
             ],
             [
              0.4444444444444444,
              "#bd3786"
             ],
             [
              0.5555555555555556,
              "#d8576b"
             ],
             [
              0.6666666666666666,
              "#ed7953"
             ],
             [
              0.7777777777777778,
              "#fb9f3a"
             ],
             [
              0.8888888888888888,
              "#fdca26"
             ],
             [
              1,
              "#f0f921"
             ]
            ],
            "type": "histogram2d"
           }
          ],
          "histogram2dcontour": [
           {
            "colorbar": {
             "outlinewidth": 0,
             "ticks": ""
            },
            "colorscale": [
             [
              0,
              "#0d0887"
             ],
             [
              0.1111111111111111,
              "#46039f"
             ],
             [
              0.2222222222222222,
              "#7201a8"
             ],
             [
              0.3333333333333333,
              "#9c179e"
             ],
             [
              0.4444444444444444,
              "#bd3786"
             ],
             [
              0.5555555555555556,
              "#d8576b"
             ],
             [
              0.6666666666666666,
              "#ed7953"
             ],
             [
              0.7777777777777778,
              "#fb9f3a"
             ],
             [
              0.8888888888888888,
              "#fdca26"
             ],
             [
              1,
              "#f0f921"
             ]
            ],
            "type": "histogram2dcontour"
           }
          ],
          "mesh3d": [
           {
            "colorbar": {
             "outlinewidth": 0,
             "ticks": ""
            },
            "type": "mesh3d"
           }
          ],
          "parcoords": [
           {
            "line": {
             "colorbar": {
              "outlinewidth": 0,
              "ticks": ""
             }
            },
            "type": "parcoords"
           }
          ],
          "pie": [
           {
            "automargin": true,
            "type": "pie"
           }
          ],
          "scatter": [
           {
            "fillpattern": {
             "fillmode": "overlay",
             "size": 10,
             "solidity": 0.2
            },
            "type": "scatter"
           }
          ],
          "scatter3d": [
           {
            "line": {
             "colorbar": {
              "outlinewidth": 0,
              "ticks": ""
             }
            },
            "marker": {
             "colorbar": {
              "outlinewidth": 0,
              "ticks": ""
             }
            },
            "type": "scatter3d"
           }
          ],
          "scattercarpet": [
           {
            "marker": {
             "colorbar": {
              "outlinewidth": 0,
              "ticks": ""
             }
            },
            "type": "scattercarpet"
           }
          ],
          "scattergeo": [
           {
            "marker": {
             "colorbar": {
              "outlinewidth": 0,
              "ticks": ""
             }
            },
            "type": "scattergeo"
           }
          ],
          "scattergl": [
           {
            "marker": {
             "colorbar": {
              "outlinewidth": 0,
              "ticks": ""
             }
            },
            "type": "scattergl"
           }
          ],
          "scattermap": [
           {
            "marker": {
             "colorbar": {
              "outlinewidth": 0,
              "ticks": ""
             }
            },
            "type": "scattermap"
           }
          ],
          "scattermapbox": [
           {
            "marker": {
             "colorbar": {
              "outlinewidth": 0,
              "ticks": ""
             }
            },
            "type": "scattermapbox"
           }
          ],
          "scatterpolar": [
           {
            "marker": {
             "colorbar": {
              "outlinewidth": 0,
              "ticks": ""
             }
            },
            "type": "scatterpolar"
           }
          ],
          "scatterpolargl": [
           {
            "marker": {
             "colorbar": {
              "outlinewidth": 0,
              "ticks": ""
             }
            },
            "type": "scatterpolargl"
           }
          ],
          "scatterternary": [
           {
            "marker": {
             "colorbar": {
              "outlinewidth": 0,
              "ticks": ""
             }
            },
            "type": "scatterternary"
           }
          ],
          "surface": [
           {
            "colorbar": {
             "outlinewidth": 0,
             "ticks": ""
            },
            "colorscale": [
             [
              0,
              "#0d0887"
             ],
             [
              0.1111111111111111,
              "#46039f"
             ],
             [
              0.2222222222222222,
              "#7201a8"
             ],
             [
              0.3333333333333333,
              "#9c179e"
             ],
             [
              0.4444444444444444,
              "#bd3786"
             ],
             [
              0.5555555555555556,
              "#d8576b"
             ],
             [
              0.6666666666666666,
              "#ed7953"
             ],
             [
              0.7777777777777778,
              "#fb9f3a"
             ],
             [
              0.8888888888888888,
              "#fdca26"
             ],
             [
              1,
              "#f0f921"
             ]
            ],
            "type": "surface"
           }
          ],
          "table": [
           {
            "cells": {
             "fill": {
              "color": "#EBF0F8"
             },
             "line": {
              "color": "white"
             }
            },
            "header": {
             "fill": {
              "color": "#C8D4E3"
             },
             "line": {
              "color": "white"
             }
            },
            "type": "table"
           }
          ]
         },
         "layout": {
          "annotationdefaults": {
           "arrowcolor": "#2a3f5f",
           "arrowhead": 0,
           "arrowwidth": 1
          },
          "autotypenumbers": "strict",
          "coloraxis": {
           "colorbar": {
            "outlinewidth": 0,
            "ticks": ""
           }
          },
          "colorscale": {
           "diverging": [
            [
             0,
             "#8e0152"
            ],
            [
             0.1,
             "#c51b7d"
            ],
            [
             0.2,
             "#de77ae"
            ],
            [
             0.3,
             "#f1b6da"
            ],
            [
             0.4,
             "#fde0ef"
            ],
            [
             0.5,
             "#f7f7f7"
            ],
            [
             0.6,
             "#e6f5d0"
            ],
            [
             0.7,
             "#b8e186"
            ],
            [
             0.8,
             "#7fbc41"
            ],
            [
             0.9,
             "#4d9221"
            ],
            [
             1,
             "#276419"
            ]
           ],
           "sequential": [
            [
             0,
             "#0d0887"
            ],
            [
             0.1111111111111111,
             "#46039f"
            ],
            [
             0.2222222222222222,
             "#7201a8"
            ],
            [
             0.3333333333333333,
             "#9c179e"
            ],
            [
             0.4444444444444444,
             "#bd3786"
            ],
            [
             0.5555555555555556,
             "#d8576b"
            ],
            [
             0.6666666666666666,
             "#ed7953"
            ],
            [
             0.7777777777777778,
             "#fb9f3a"
            ],
            [
             0.8888888888888888,
             "#fdca26"
            ],
            [
             1,
             "#f0f921"
            ]
           ],
           "sequentialminus": [
            [
             0,
             "#0d0887"
            ],
            [
             0.1111111111111111,
             "#46039f"
            ],
            [
             0.2222222222222222,
             "#7201a8"
            ],
            [
             0.3333333333333333,
             "#9c179e"
            ],
            [
             0.4444444444444444,
             "#bd3786"
            ],
            [
             0.5555555555555556,
             "#d8576b"
            ],
            [
             0.6666666666666666,
             "#ed7953"
            ],
            [
             0.7777777777777778,
             "#fb9f3a"
            ],
            [
             0.8888888888888888,
             "#fdca26"
            ],
            [
             1,
             "#f0f921"
            ]
           ]
          },
          "colorway": [
           "#636efa",
           "#EF553B",
           "#00cc96",
           "#ab63fa",
           "#FFA15A",
           "#19d3f3",
           "#FF6692",
           "#B6E880",
           "#FF97FF",
           "#FECB52"
          ],
          "font": {
           "color": "#2a3f5f"
          },
          "geo": {
           "bgcolor": "white",
           "lakecolor": "white",
           "landcolor": "#E5ECF6",
           "showlakes": true,
           "showland": true,
           "subunitcolor": "white"
          },
          "hoverlabel": {
           "align": "left"
          },
          "hovermode": "closest",
          "mapbox": {
           "style": "light"
          },
          "paper_bgcolor": "white",
          "plot_bgcolor": "#E5ECF6",
          "polar": {
           "angularaxis": {
            "gridcolor": "white",
            "linecolor": "white",
            "ticks": ""
           },
           "bgcolor": "#E5ECF6",
           "radialaxis": {
            "gridcolor": "white",
            "linecolor": "white",
            "ticks": ""
           }
          },
          "scene": {
           "xaxis": {
            "backgroundcolor": "#E5ECF6",
            "gridcolor": "white",
            "gridwidth": 2,
            "linecolor": "white",
            "showbackground": true,
            "ticks": "",
            "zerolinecolor": "white"
           },
           "yaxis": {
            "backgroundcolor": "#E5ECF6",
            "gridcolor": "white",
            "gridwidth": 2,
            "linecolor": "white",
            "showbackground": true,
            "ticks": "",
            "zerolinecolor": "white"
           },
           "zaxis": {
            "backgroundcolor": "#E5ECF6",
            "gridcolor": "white",
            "gridwidth": 2,
            "linecolor": "white",
            "showbackground": true,
            "ticks": "",
            "zerolinecolor": "white"
           }
          },
          "shapedefaults": {
           "line": {
            "color": "#2a3f5f"
           }
          },
          "ternary": {
           "aaxis": {
            "gridcolor": "white",
            "linecolor": "white",
            "ticks": ""
           },
           "baxis": {
            "gridcolor": "white",
            "linecolor": "white",
            "ticks": ""
           },
           "bgcolor": "#E5ECF6",
           "caxis": {
            "gridcolor": "white",
            "linecolor": "white",
            "ticks": ""
           }
          },
          "title": {
           "x": 0.05
          },
          "xaxis": {
           "automargin": true,
           "gridcolor": "white",
           "linecolor": "white",
           "ticks": "",
           "title": {
            "standoff": 15
           },
           "zerolinecolor": "white",
           "zerolinewidth": 2
          },
          "yaxis": {
           "automargin": true,
           "gridcolor": "white",
           "linecolor": "white",
           "ticks": "",
           "title": {
            "standoff": 15
           },
           "zerolinecolor": "white",
           "zerolinewidth": 2
          }
         }
        },
        "title": {
         "text": "KMEANS----Projection interactive des clients sur PC1, PC2, PC3"
        },
        "width": 1000
       }
      }
     },
     "metadata": {},
     "output_type": "display_data"
    }
   ],
   "source": [
    "fig = px.scatter_3d(\n",
    "    X, x='trend', y='volatility', z='season',\n",
    "    color='Cluster_KMeans',\n",
    "    title=\"KMEANS----Projection interactive des clients sur PC1, PC2, PC3\",\n",
    "    opacity=0.7,\n",
    "    width=1000, height=1000,\n",
    ")\n",
    "\n",
    "# Fixer la taille des points ici\n",
    "fig.update_traces(marker=dict(size=10))\n",
    "\n",
    "fig.show()\n"
   ]
  },
  {
   "cell_type": "code",
   "execution_count": 28,
   "id": "2f6e5e51",
   "metadata": {},
   "outputs": [
    {
     "data": {
      "application/vnd.plotly.v1+json": {
       "config": {
        "plotlyServerURL": "https://plot.ly"
       },
       "data": [
        {
         "hovertemplate": "trend=%{x}<br>volatility=%{y}<br>season=%{z}<br>Cluster_CAH=%{marker.color}<extra></extra>",
         "legendgroup": "",
         "marker": {
          "color": {
           "bdata": "AQICAgICAgICAAIDAwMBAgICAgIAAgACAAAAAAMDAAACAAACAgICAAIAAgIAAgMAAgIAAwICAgACAwMDAgIAAgICAAMAAgIAAgACAgMDAAACAgIAAgADAAIAAgMCAwIAAAICAgIDAgIAAAICAAAAAQICAgIA",
           "dtype": "i1"
          },
          "coloraxis": "coloraxis",
          "opacity": 0.7,
          "size": 2,
          "symbol": "circle"
         },
         "mode": "markers",
         "name": "",
         "scene": "scene",
         "showlegend": false,
         "type": "scatter3d",
         "x": {
          "bdata": "XW5w0UH/2z80XcV21SvHPwCWwkXbILi/x4t0C2lLhL+4zRyuosuqP7T30eQLDL0/NWJF+vqgez9iEEbFJkqeP0IGyavZOJo//E8skrsvzj/xebA5TcmsP5NTpMiOneY/4P6WQnHF5D/qcav/OADqPxbNFb875Ps/O72vL0SVxj9MPR8kBHS0PzJGmWHszcI/bycAg1DrdT8CmyFuXG+Ev4k9FIK5KN0/303Q9heiqT8SDheBdaXCP8lGJbQHZqg/Gm9G5ete0D+qeKPn4vrSP/jlVh/j39I/yLICjv7b1j//xtyxqWfmP5/C7IMCft4/S7IwYeUGyD8yqWB6ORXSPxe6K6WNVbo/wgEyBYcs0j8HdPymec/WPxzt6D++j8Y/g3s2OxO/vD8cDmvVFxq5P/leMiQh3tK//Z6OcTwC1D+J0scL11CkP/4DLn/Xet8/rGUSq/UKwj9yA5Az5L6fv0p7YXrMmeA/QwC1Y5o+pb9O/8q90tPjPxIJkyfAprk/7D6KQ2+4tj8ABP/vcvbCP7bhbE6ZcMI/0wGzQw+F4T9BEkuc1e21P8PvLhtNpcQ/JWNTgGExoT8vIgfO7ODTPzQweNY7BME/f3o8u5x44j/5e7ElmQnfP+4GgDDUhOI/57yvb0qyjj+jI94n43+rv9YqeOg9ZeA/Ze5GAV61iz/6BD/tdkW1v7wtGUCybb8/8phFSlKRv7/z1I4P0XngP5hcbdVeAs4/g9xPJRr1vz/DBu9AugLCP3F3mLuF2cs/4yRrxHv0tz8Wv8zHhKnRP3RpyK+GNbU/LOeAizeytT+AUg0D3X3lP7ZuUS//S9w/3s6Vhn24uT8QX5JnDRTSP02YpT6K0ak/MCQFtu/zsj+z6GsIfb24PyHhfAT79M0/p7p/MhibrT+NQ7tyb8WsP5fRkmI9HPQ/+cQG7Xbmzj9YEDjpM6ydvyVAIeLTROA/s+hrCH29uD/BhOMrQT7gP1/vALOADa8/TKHAJvdX5T8Ho7DbPFutP4y9SN19N9E/UpdJF/FX0T9vq4860+mtvwAXVTes7bU/lyvO59bksz/JV/5lFnTAPxGVZV3go+M/rkNHV8cPmz/RdGUSfMCdvxt7o4E9b9A/OLOQFG8p0D/mim5buKO/P26lEbH+msg/G7Pi10Gv0D8eZqs7u9/PPy0ydnMhwtc/oBoxawdu8T881ueIzve4P9lhqW2FSIs/Vl9vOExcrz+v24r++mPEP8VRoZL98Mc/",
          "dtype": "f8"
         },
         "y": {
          "bdata": "MB9phF/mJ0A+QXzFUkj9P+rkHdBhlvQ/fjo95k1W/T9CH8IdW2rqP3wmkXV+efE/hlpbEDEr9T9tw1+TOCkBQK65ebx2NOk/B8sGJDFZ6z/vS74cEb3mP+8uhtOnuBlAXi/B18MoGkDTd8O6lOcWQHvOTfqF9ydA+MeTQ8FL8z8kZN/lIir0P0G5oKVYzv4/Xqdq1K/LA0BQ0WBifl/mP52dYMWcXPY/wu2PaaEE5D+UcwDntb8bQPw1JnO0S+U/eY8gFc2qCEBlebghMtkGQBON+1fwkQRAhVUwr02p8z8YiGEFYrUeQCCJmd84Dx1ATfpUrbX3E0CPx5zHktQAQFrmhuyNp+U/gpOmpb0zBkAqQqRI4gfyP8zM4AWp9ek/LUwLT2Av/T+mYUN7XuryP2neSXOz+QRAHzH14L+xAUAjOc6mujLkP8aIGQ5NYfw/IGwOYmsG6D+S0U+pgxnqP33FAz9BKvI/AM7THbWY6z8JB9oPcwsbQJ6rvffSXSZATrwfhNZ+5D8gCYKtH2T8Pzhojl3KYBFA9QYaLxa9EECSQh7Jnyb+P6sYI818fug/9Rv5Qh4A5j+VP2lQKUv0P37TOE36fuw/kaFOKWePGEDxTsM68rYcQCy90nHblQtAziLhq9YJ4j+YY0KteznqP1QdQgdiFeQ/xUiPeZI89D+ATMGZ/UnpP+l7YucR7Oo/omNZoNUmKkCEc4yl73gJQGZzxf9QRew/VKEijeYn+j8doktpkmzZPztafi7qaxlAPmwUUUvu8T/fe2CaRzHxP5MDLt4z5P8/GD1hklPG5j/+x5Fm0CYSQN+9w63LVRBA+mZRFRQLD0DTztcRSI8BQAYUirTrH+c/dRQ9qSBj6D9q5+CuBNvuP2X7YW0DcOw/1FxY4jN66T9kTZb82NkUQNq5nOhVvxVA6SojMYBP6D+5xm2XHYv/P4YK5QELx/g/aufgrgTb7j8CvjCDO18OQO5OoZWeG/A/Yw1IXklk9z9eyHeEm+jmP8Qy/nh6d/s/u/kf+hPlBEAwbK12O9XnPw/SCf8/Yt8/qhYw0eZb/z8qnUWs5g/+Pzlx8i0L3RRAxUHeUCYQ6T9Gq5sEwY/qPylYeP0pKAJAS4bsAuHIAEDysGjWJcnpP6RG984Mdew/LxszCnPz8D9pV8QoycEVQHyo+MuWp/Y/kH8h3/WSHUCn6SOruM/xP1p9EMOS8eY/od4bLbma8D94DsRG3jL0Px9k3Uo/0Q5A",
          "dtype": "f8"
         },
         "z": {
          "bdata": "rGjgW2koMEC4YdA/nkn0PwMJFOJycOc/fuBbHLiN3T+waloBVuTnPwMEwti+NOc/SBcFFv6tyT/pNTXKuI7wP/jMySmd894/4x9MUFZw6T/yAU7OMyriPye5dTXBphhAEsvCjRS4G0BSwUZSiqMXQGoCVcsZRCVAGy0ySadn8z+TOo/Gi5nWP+7MH4oe4/Q/Xu7RZtoF7z+U7O16vLXaP5DZOqHLTPY/8NS8f3HQ2D8BqKR/dHURQDjCtbGPads/rJH+5RUr+T82f2fv6loCQM3eYMmGmOg/pHj3y66y8j8EgqqPAc0TQCSj5xf2hv8/36uwoJjUBUDFwvr0PpPUP4uKwbhWoNc/T2QBFREd7j+j96G31afpP6iBr38E3OA/EvxTt+1N7z+EEijv+3niP+0y8LSCdtk/bQyw7Og9+j9qEo5il/TQPwvW/Kaote4/E0jEModU6T8cLjJKBrzlP1KrXyUFSOQ/7AMtFkPI3z97q4kaJOkRQGuUstHyGAZAJjL7j2kE2j+fairtCzHpP6H2U+mejes/lEbhHM7RBUDKHZ54RBf1P+Uqzf5KGNk/xcUHSrFezj93QtVmz6HfP7dZ5wJu5ts/PC6hgdbeFUByh+gTXu4gQL0NxhypMgBArNjXm8C90T9JuekMoPDYP9A+m6UkiOM/5T9aNknJ5T/oQ1zGuzHfP2yAXnAtT9Q/QZlR7pGnFkCz5/Rjuhn9PyJ/Vbfent0/IxzjbaQg5j8oJIET73THPwPSNw2b7gVAgWeIgp8f8D9gUov0aVbiPxW+yX2JHfI/RWaNrB02zT9nUQ3bqL4LQPXSvXE9iAhAeNZDJeuaCUDoxqsvlcX/P5cykD/49dA/qMU+osxI4T95IZjsi/jgP0giE6PZ8eM/cqrvaK/Z2T/jhUGJ+wP+Pwj+pZ+plwdAEYp/i9+D4T83iq1EOLjlP4lUlhJgefQ/eSGY7Iv44D96HWnJlroLQHxnVEzP4uM/kzznkNOK9z+T3qnp1LLTP9Dph9RPy+w/WTCaO59y4z+9A/e14GTXPwGmsqLqytY/3+8T7djk8z+Mi4S8J6j0PzLiYQ89AAZA9o0Wt+zP1j+MFiv64DHhPz7own3ODvM/esP/lPyN+D88Hwx+lv3bP6pcxPzJO+Q/BIxzCuAh4j/D+/TuKuAEQNqmsMvnj+M/irXKMEeJKkAbQlAC5mrlP9MdtjG6zeA/MErkdPdz6D8IppVuPQvrP7Q76rv5ZgFA",
          "dtype": "f8"
         }
        }
       ],
       "layout": {
        "coloraxis": {
         "colorbar": {
          "title": {
           "text": "Cluster_CAH"
          }
         },
         "colorscale": [
          [
           0,
           "#0d0887"
          ],
          [
           0.1111111111111111,
           "#46039f"
          ],
          [
           0.2222222222222222,
           "#7201a8"
          ],
          [
           0.3333333333333333,
           "#9c179e"
          ],
          [
           0.4444444444444444,
           "#bd3786"
          ],
          [
           0.5555555555555556,
           "#d8576b"
          ],
          [
           0.6666666666666666,
           "#ed7953"
          ],
          [
           0.7777777777777778,
           "#fb9f3a"
          ],
          [
           0.8888888888888888,
           "#fdca26"
          ],
          [
           1,
           "#f0f921"
          ]
         ]
        },
        "height": 1000,
        "legend": {
         "tracegroupgap": 0
        },
        "scene": {
         "domain": {
          "x": [
           0,
           1
          ],
          "y": [
           0,
           1
          ]
         },
         "xaxis": {
          "title": {
           "text": "trend"
          }
         },
         "yaxis": {
          "title": {
           "text": "volatility"
          }
         },
         "zaxis": {
          "title": {
           "text": "season"
          }
         }
        },
        "template": {
         "data": {
          "bar": [
           {
            "error_x": {
             "color": "#2a3f5f"
            },
            "error_y": {
             "color": "#2a3f5f"
            },
            "marker": {
             "line": {
              "color": "#E5ECF6",
              "width": 0.5
             },
             "pattern": {
              "fillmode": "overlay",
              "size": 10,
              "solidity": 0.2
             }
            },
            "type": "bar"
           }
          ],
          "barpolar": [
           {
            "marker": {
             "line": {
              "color": "#E5ECF6",
              "width": 0.5
             },
             "pattern": {
              "fillmode": "overlay",
              "size": 10,
              "solidity": 0.2
             }
            },
            "type": "barpolar"
           }
          ],
          "carpet": [
           {
            "aaxis": {
             "endlinecolor": "#2a3f5f",
             "gridcolor": "white",
             "linecolor": "white",
             "minorgridcolor": "white",
             "startlinecolor": "#2a3f5f"
            },
            "baxis": {
             "endlinecolor": "#2a3f5f",
             "gridcolor": "white",
             "linecolor": "white",
             "minorgridcolor": "white",
             "startlinecolor": "#2a3f5f"
            },
            "type": "carpet"
           }
          ],
          "choropleth": [
           {
            "colorbar": {
             "outlinewidth": 0,
             "ticks": ""
            },
            "type": "choropleth"
           }
          ],
          "contour": [
           {
            "colorbar": {
             "outlinewidth": 0,
             "ticks": ""
            },
            "colorscale": [
             [
              0,
              "#0d0887"
             ],
             [
              0.1111111111111111,
              "#46039f"
             ],
             [
              0.2222222222222222,
              "#7201a8"
             ],
             [
              0.3333333333333333,
              "#9c179e"
             ],
             [
              0.4444444444444444,
              "#bd3786"
             ],
             [
              0.5555555555555556,
              "#d8576b"
             ],
             [
              0.6666666666666666,
              "#ed7953"
             ],
             [
              0.7777777777777778,
              "#fb9f3a"
             ],
             [
              0.8888888888888888,
              "#fdca26"
             ],
             [
              1,
              "#f0f921"
             ]
            ],
            "type": "contour"
           }
          ],
          "contourcarpet": [
           {
            "colorbar": {
             "outlinewidth": 0,
             "ticks": ""
            },
            "type": "contourcarpet"
           }
          ],
          "heatmap": [
           {
            "colorbar": {
             "outlinewidth": 0,
             "ticks": ""
            },
            "colorscale": [
             [
              0,
              "#0d0887"
             ],
             [
              0.1111111111111111,
              "#46039f"
             ],
             [
              0.2222222222222222,
              "#7201a8"
             ],
             [
              0.3333333333333333,
              "#9c179e"
             ],
             [
              0.4444444444444444,
              "#bd3786"
             ],
             [
              0.5555555555555556,
              "#d8576b"
             ],
             [
              0.6666666666666666,
              "#ed7953"
             ],
             [
              0.7777777777777778,
              "#fb9f3a"
             ],
             [
              0.8888888888888888,
              "#fdca26"
             ],
             [
              1,
              "#f0f921"
             ]
            ],
            "type": "heatmap"
           }
          ],
          "histogram": [
           {
            "marker": {
             "pattern": {
              "fillmode": "overlay",
              "size": 10,
              "solidity": 0.2
             }
            },
            "type": "histogram"
           }
          ],
          "histogram2d": [
           {
            "colorbar": {
             "outlinewidth": 0,
             "ticks": ""
            },
            "colorscale": [
             [
              0,
              "#0d0887"
             ],
             [
              0.1111111111111111,
              "#46039f"
             ],
             [
              0.2222222222222222,
              "#7201a8"
             ],
             [
              0.3333333333333333,
              "#9c179e"
             ],
             [
              0.4444444444444444,
              "#bd3786"
             ],
             [
              0.5555555555555556,
              "#d8576b"
             ],
             [
              0.6666666666666666,
              "#ed7953"
             ],
             [
              0.7777777777777778,
              "#fb9f3a"
             ],
             [
              0.8888888888888888,
              "#fdca26"
             ],
             [
              1,
              "#f0f921"
             ]
            ],
            "type": "histogram2d"
           }
          ],
          "histogram2dcontour": [
           {
            "colorbar": {
             "outlinewidth": 0,
             "ticks": ""
            },
            "colorscale": [
             [
              0,
              "#0d0887"
             ],
             [
              0.1111111111111111,
              "#46039f"
             ],
             [
              0.2222222222222222,
              "#7201a8"
             ],
             [
              0.3333333333333333,
              "#9c179e"
             ],
             [
              0.4444444444444444,
              "#bd3786"
             ],
             [
              0.5555555555555556,
              "#d8576b"
             ],
             [
              0.6666666666666666,
              "#ed7953"
             ],
             [
              0.7777777777777778,
              "#fb9f3a"
             ],
             [
              0.8888888888888888,
              "#fdca26"
             ],
             [
              1,
              "#f0f921"
             ]
            ],
            "type": "histogram2dcontour"
           }
          ],
          "mesh3d": [
           {
            "colorbar": {
             "outlinewidth": 0,
             "ticks": ""
            },
            "type": "mesh3d"
           }
          ],
          "parcoords": [
           {
            "line": {
             "colorbar": {
              "outlinewidth": 0,
              "ticks": ""
             }
            },
            "type": "parcoords"
           }
          ],
          "pie": [
           {
            "automargin": true,
            "type": "pie"
           }
          ],
          "scatter": [
           {
            "fillpattern": {
             "fillmode": "overlay",
             "size": 10,
             "solidity": 0.2
            },
            "type": "scatter"
           }
          ],
          "scatter3d": [
           {
            "line": {
             "colorbar": {
              "outlinewidth": 0,
              "ticks": ""
             }
            },
            "marker": {
             "colorbar": {
              "outlinewidth": 0,
              "ticks": ""
             }
            },
            "type": "scatter3d"
           }
          ],
          "scattercarpet": [
           {
            "marker": {
             "colorbar": {
              "outlinewidth": 0,
              "ticks": ""
             }
            },
            "type": "scattercarpet"
           }
          ],
          "scattergeo": [
           {
            "marker": {
             "colorbar": {
              "outlinewidth": 0,
              "ticks": ""
             }
            },
            "type": "scattergeo"
           }
          ],
          "scattergl": [
           {
            "marker": {
             "colorbar": {
              "outlinewidth": 0,
              "ticks": ""
             }
            },
            "type": "scattergl"
           }
          ],
          "scattermap": [
           {
            "marker": {
             "colorbar": {
              "outlinewidth": 0,
              "ticks": ""
             }
            },
            "type": "scattermap"
           }
          ],
          "scattermapbox": [
           {
            "marker": {
             "colorbar": {
              "outlinewidth": 0,
              "ticks": ""
             }
            },
            "type": "scattermapbox"
           }
          ],
          "scatterpolar": [
           {
            "marker": {
             "colorbar": {
              "outlinewidth": 0,
              "ticks": ""
             }
            },
            "type": "scatterpolar"
           }
          ],
          "scatterpolargl": [
           {
            "marker": {
             "colorbar": {
              "outlinewidth": 0,
              "ticks": ""
             }
            },
            "type": "scatterpolargl"
           }
          ],
          "scatterternary": [
           {
            "marker": {
             "colorbar": {
              "outlinewidth": 0,
              "ticks": ""
             }
            },
            "type": "scatterternary"
           }
          ],
          "surface": [
           {
            "colorbar": {
             "outlinewidth": 0,
             "ticks": ""
            },
            "colorscale": [
             [
              0,
              "#0d0887"
             ],
             [
              0.1111111111111111,
              "#46039f"
             ],
             [
              0.2222222222222222,
              "#7201a8"
             ],
             [
              0.3333333333333333,
              "#9c179e"
             ],
             [
              0.4444444444444444,
              "#bd3786"
             ],
             [
              0.5555555555555556,
              "#d8576b"
             ],
             [
              0.6666666666666666,
              "#ed7953"
             ],
             [
              0.7777777777777778,
              "#fb9f3a"
             ],
             [
              0.8888888888888888,
              "#fdca26"
             ],
             [
              1,
              "#f0f921"
             ]
            ],
            "type": "surface"
           }
          ],
          "table": [
           {
            "cells": {
             "fill": {
              "color": "#EBF0F8"
             },
             "line": {
              "color": "white"
             }
            },
            "header": {
             "fill": {
              "color": "#C8D4E3"
             },
             "line": {
              "color": "white"
             }
            },
            "type": "table"
           }
          ]
         },
         "layout": {
          "annotationdefaults": {
           "arrowcolor": "#2a3f5f",
           "arrowhead": 0,
           "arrowwidth": 1
          },
          "autotypenumbers": "strict",
          "coloraxis": {
           "colorbar": {
            "outlinewidth": 0,
            "ticks": ""
           }
          },
          "colorscale": {
           "diverging": [
            [
             0,
             "#8e0152"
            ],
            [
             0.1,
             "#c51b7d"
            ],
            [
             0.2,
             "#de77ae"
            ],
            [
             0.3,
             "#f1b6da"
            ],
            [
             0.4,
             "#fde0ef"
            ],
            [
             0.5,
             "#f7f7f7"
            ],
            [
             0.6,
             "#e6f5d0"
            ],
            [
             0.7,
             "#b8e186"
            ],
            [
             0.8,
             "#7fbc41"
            ],
            [
             0.9,
             "#4d9221"
            ],
            [
             1,
             "#276419"
            ]
           ],
           "sequential": [
            [
             0,
             "#0d0887"
            ],
            [
             0.1111111111111111,
             "#46039f"
            ],
            [
             0.2222222222222222,
             "#7201a8"
            ],
            [
             0.3333333333333333,
             "#9c179e"
            ],
            [
             0.4444444444444444,
             "#bd3786"
            ],
            [
             0.5555555555555556,
             "#d8576b"
            ],
            [
             0.6666666666666666,
             "#ed7953"
            ],
            [
             0.7777777777777778,
             "#fb9f3a"
            ],
            [
             0.8888888888888888,
             "#fdca26"
            ],
            [
             1,
             "#f0f921"
            ]
           ],
           "sequentialminus": [
            [
             0,
             "#0d0887"
            ],
            [
             0.1111111111111111,
             "#46039f"
            ],
            [
             0.2222222222222222,
             "#7201a8"
            ],
            [
             0.3333333333333333,
             "#9c179e"
            ],
            [
             0.4444444444444444,
             "#bd3786"
            ],
            [
             0.5555555555555556,
             "#d8576b"
            ],
            [
             0.6666666666666666,
             "#ed7953"
            ],
            [
             0.7777777777777778,
             "#fb9f3a"
            ],
            [
             0.8888888888888888,
             "#fdca26"
            ],
            [
             1,
             "#f0f921"
            ]
           ]
          },
          "colorway": [
           "#636efa",
           "#EF553B",
           "#00cc96",
           "#ab63fa",
           "#FFA15A",
           "#19d3f3",
           "#FF6692",
           "#B6E880",
           "#FF97FF",
           "#FECB52"
          ],
          "font": {
           "color": "#2a3f5f"
          },
          "geo": {
           "bgcolor": "white",
           "lakecolor": "white",
           "landcolor": "#E5ECF6",
           "showlakes": true,
           "showland": true,
           "subunitcolor": "white"
          },
          "hoverlabel": {
           "align": "left"
          },
          "hovermode": "closest",
          "mapbox": {
           "style": "light"
          },
          "paper_bgcolor": "white",
          "plot_bgcolor": "#E5ECF6",
          "polar": {
           "angularaxis": {
            "gridcolor": "white",
            "linecolor": "white",
            "ticks": ""
           },
           "bgcolor": "#E5ECF6",
           "radialaxis": {
            "gridcolor": "white",
            "linecolor": "white",
            "ticks": ""
           }
          },
          "scene": {
           "xaxis": {
            "backgroundcolor": "#E5ECF6",
            "gridcolor": "white",
            "gridwidth": 2,
            "linecolor": "white",
            "showbackground": true,
            "ticks": "",
            "zerolinecolor": "white"
           },
           "yaxis": {
            "backgroundcolor": "#E5ECF6",
            "gridcolor": "white",
            "gridwidth": 2,
            "linecolor": "white",
            "showbackground": true,
            "ticks": "",
            "zerolinecolor": "white"
           },
           "zaxis": {
            "backgroundcolor": "#E5ECF6",
            "gridcolor": "white",
            "gridwidth": 2,
            "linecolor": "white",
            "showbackground": true,
            "ticks": "",
            "zerolinecolor": "white"
           }
          },
          "shapedefaults": {
           "line": {
            "color": "#2a3f5f"
           }
          },
          "ternary": {
           "aaxis": {
            "gridcolor": "white",
            "linecolor": "white",
            "ticks": ""
           },
           "baxis": {
            "gridcolor": "white",
            "linecolor": "white",
            "ticks": ""
           },
           "bgcolor": "#E5ECF6",
           "caxis": {
            "gridcolor": "white",
            "linecolor": "white",
            "ticks": ""
           }
          },
          "title": {
           "x": 0.05
          },
          "xaxis": {
           "automargin": true,
           "gridcolor": "white",
           "linecolor": "white",
           "ticks": "",
           "title": {
            "standoff": 15
           },
           "zerolinecolor": "white",
           "zerolinewidth": 2
          },
          "yaxis": {
           "automargin": true,
           "gridcolor": "white",
           "linecolor": "white",
           "ticks": "",
           "title": {
            "standoff": 15
           },
           "zerolinecolor": "white",
           "zerolinewidth": 2
          }
         }
        },
        "title": {
         "text": "CAH----Projection interactive des clients sur PC1, PC2, PC3"
        },
        "width": 1000
       }
      }
     },
     "metadata": {},
     "output_type": "display_data"
    }
   ],
   "source": [
    "fig = px.scatter_3d(\n",
    "    X, x='trend', y='volatility', z='season',\n",
    "    color='Cluster_CAH',\n",
    "    title=\"CAH----Projection interactive des clients sur PC1, PC2, PC3\",\n",
    "    opacity=0.7,\n",
    "    width=1000, height=1000,\n",
    ")\n",
    "\n",
    "# Fixer la taille des points ici\n",
    "fig.update_traces(marker=dict(size=2))\n",
    "\n",
    "fig.show()\n"
   ]
  },
  {
   "cell_type": "code",
   "execution_count": 29,
   "id": "e7ed64db",
   "metadata": {},
   "outputs": [],
   "source": [
    "# 4. Comparaison finale\n",
    "def compare_models(X, labels_dict):\n",
    "    results = []\n",
    "    for name, labels in labels_dict.items():\n",
    "        results.append({\n",
    "            'Modèle': name,\n",
    "            'Silhouette': silhouette_score(X, labels),               # :contentReference[oaicite:5]{index=5}\n",
    "            'Calinski–Harabasz': calinski_harabasz_score(X, labels), # :contentReference[oaicite:6]{index=6}\n",
    "            'Davies–Bouldin': davies_bouldin_score(X, labels)        # :contentReference[oaicite:7]{index=7}\n",
    "        })\n",
    "    import pandas as pd\n",
    "    return pd.DataFrame(results)\n"
   ]
  },
  {
   "cell_type": "code",
   "execution_count": 30,
   "id": "270cbb2d",
   "metadata": {},
   "outputs": [
    {
     "name": "stdout",
     "output_type": "stream",
     "text": [
      "   Modèle  Silhouette  Calinski–Harabasz  Davies–Bouldin\n",
      "0  KMeans    0.477623         115.020948        0.881333\n",
      "1     CAH    0.449460         104.805736        0.921803\n"
     ]
    }
   ],
   "source": [
    "# Tableau comparatif\n",
    "df_comparison = compare_models(\n",
    "    X_std,\n",
    "    {'KMeans': labels_km, 'CAH': labels_ac}\n",
    ")\n",
    "print(df_comparison)"
   ]
  },
  {
   "cell_type": "code",
   "execution_count": null,
   "id": "1d4961c3",
   "metadata": {},
   "outputs": [],
   "source": [
    "desc = []\n",
    "for c in sorted(X['Cluster_KMeans'].unique()):\n",
    "    sub = X[X['Cluster_KMeans']==c]\n",
    "    nom = name_cluster(sub)\n",
    "    desc.append({\"cluster\":c, \"nom\":nom,\n",
    "                 \"trend\":sub['trend'].mean(),\n",
    "                 \"season\":sub['season'].mean(),\n",
    "                 \"volatility\":sub['volatility'].mean(),\n",
    "                 \"yoy\":sub['yoy'].mean(),\n",
    "                 \"cv\":sub['cv'].mean(),\n",
    "                 \"postes\": list(sub.index)})\n",
    "desc_df = pd.DataFrame(desc)\n",
    "\n",
    "# Sauvegarde résultats\n",
    "X[['cluster']].to_csv(\"mapping_clusters.csv\")\n",
    "\n",
    "desc_df.to_csv(\"desc_clusters.csv\", index=False)\n",
    "print(\"Clusters calculés et sauvegardés\")\n"
   ]
  }
 ],
 "metadata": {
  "kernelspec": {
   "display_name": "Python 3",
   "language": "python",
   "name": "python3"
  },
  "language_info": {
   "codemirror_mode": {
    "name": "ipython",
    "version": 3
   },
   "file_extension": ".py",
   "mimetype": "text/x-python",
   "name": "python",
   "nbconvert_exporter": "python",
   "pygments_lexer": "ipython3",
   "version": "3.12.10"
  }
 },
 "nbformat": 4,
 "nbformat_minor": 5
}
